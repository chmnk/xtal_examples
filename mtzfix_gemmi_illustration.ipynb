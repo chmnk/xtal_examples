{
 "cells": [
  {
   "cell_type": "code",
   "execution_count": 1,
   "id": "008d0a15",
   "metadata": {},
   "outputs": [],
   "source": [
    "import os\n",
    "import numpy as np\n",
    "import matplotlib\n",
    "import matplotlib.pyplot as plt\n",
    "from scipy.stats import pearsonr as pearsonr"
   ]
  },
  {
   "cell_type": "code",
   "execution_count": 2,
   "id": "9abcfe04",
   "metadata": {},
   "outputs": [],
   "source": [
    "import gemmi\n",
    "from gemmi import cif"
   ]
  },
  {
   "cell_type": "code",
   "execution_count": 3,
   "id": "5a86fdb1",
   "metadata": {},
   "outputs": [],
   "source": [
    "from iotbx.data_manager import DataManager"
   ]
  },
  {
   "cell_type": "markdown",
   "id": "5d7094a5",
   "metadata": {},
   "source": [
    "Set up your working directory and executable paths"
   ]
  },
  {
   "cell_type": "code",
   "execution_count": 4,
   "id": "b80c821b",
   "metadata": {},
   "outputs": [],
   "source": [
    "\n",
    "PATH_main = '/home/mkadukova/data/refinement_playground_clean/'\n",
    "PATH_gemmi_exe = '/home/mkadukova/soft/gemmi/build/gemmi'\n",
    "CMD_ccp4_source = 'source ~/soft/xtal/ccp4-7.1/include/ccp4.setup-sh.in'\n",
    "CMD_mtz2map = 'python3 ~/soft/miniconda3/pkgs/cctbx-base-2021.8-py38hf7c6b08_0/lib/python3.8/site-packages/mmtbx/command_line/mtz2map.py'\n",
    "\n",
    "\n",
    "try:\n",
    "    os.mkdir(PATH_main)\n",
    "except FileExistsError:\n",
    "    pass\n",
    "\n",
    "os.chdir(PATH_main)\n"
   ]
  },
  {
   "cell_type": "code",
   "execution_count": 5,
   "id": "8c2bcd5d",
   "metadata": {},
   "outputs": [
    {
     "name": "stderr",
     "output_type": "stream",
     "text": [
      "  % Total    % Received % Xferd  Average Speed   Time    Time     Time  Current\n",
      "                                 Dload  Upload   Total   Spent    Left  Speed\n",
      "100  318k    0  318k    0     0   225k      0 --:--:--  0:00:01 --:--:--  226k\n",
      "  % Total    % Received % Xferd  Average Speed   Time    Time     Time  Current\n",
      "                                 Dload  Upload   Total   Spent    Left  Speed\n",
      "100  368k    0  368k    0     0   241k      0 --:--:--  0:00:01 --:--:--  241k\n",
      "  % Total    % Received % Xferd  Average Speed   Time    Time     Time  Current\n",
      "                                 Dload  Upload   Total   Spent    Left  Speed\n",
      "100 1472k    0 1472k    0     0   408k      0 --:--:--  0:00:03 --:--:--  409k\n"
     ]
    }
   ],
   "source": [
    "# Two pdbcodes for choice\n",
    "\n",
    "pdbcode = '10gs'\n",
    "# pdbcode = '101m'\n",
    "\n",
    "# grid_sizes from fft for uniform output (I precompuded them below and put here)\n",
    "exact_sizes_ = {'10gs': (144, 168, 130),\n",
    "                '101m': (180, 180, 96)}\n",
    "exact_size_ = exact_sizes_[pdbcode]\n",
    "\n",
    "try:\n",
    "    os.mkdir('{0}{1}'.format(PATH_main, pdbcode))\n",
    "except FileExistsError:\n",
    "    pass\n",
    "\n",
    "os.chdir('{0}{1}'.format(PATH_main, pdbcode))\n",
    "os.system('curl https://files.rcsb.org/download/{0}.pdb -o {1}{2}/{2}.pdb'.format(pdbcode.upper(), PATH_main, pdbcode))\n",
    "os.system('curl https://files.rcsb.org/download/{0}.cif -o {1}{2}/{2}.cif'.format(pdbcode.upper(), PATH_main, pdbcode))\n",
    "os.system('curl https://edmaps.rcsb.org/coefficients/{0}.mtz -o {1}{0}/{0}.mtz'.format(pdbcode, PATH_main))\n",
    "os.chdir(PATH_main)\n",
    "\n",
    "patt_com = '{0}{1}/{1}.{2}'.format(PATH_main, pdbcode, '{0}')\n",
    "path_com = '{0}{1}/{1}.pdb'.format(PATH_main, pdbcode)\n",
    "path_com_mtz = '{0}{1}/{1}.mtz'.format(PATH_main, pdbcode)\n",
    "path_com_wfofc_ccp4 = '{0}{1}/{1}.wfofc.ccp4'.format(PATH_main, pdbcode)\n",
    "path_com_2fofc_ccp4 = '{0}{1}/{1}.2fofc.ccp4'.format(PATH_main, pdbcode)\n"
   ]
  },
  {
   "cell_type": "code",
   "execution_count": 6,
   "id": "2eb5b1db",
   "metadata": {},
   "outputs": [
    {
     "name": "stdout",
     "output_type": "stream",
     "text": [
      "\n",
      "MTZFIX  Version: 27-Apr-19\n",
      "\n",
      "\n",
      "Checks performed by this program (A=acentric, C=centric):\n",
      "\n",
      "A1:  FC = 2m.Fo - FM\n",
      "A2:  FC >= 2m.Fo - FM\n",
      "A3:  FD = FM - m.Fo\n",
      "A4:  FD = 2(FM - m.Fo)\n",
      "\n",
      "C5:  FC = 2m.Fo - FM\n",
      "C6:  FM = m.Fo\n",
      "C7:  FD = m.Fo - FC\n",
      "C8:  FD = 2(m.Fo - FC)\n",
      "C9:  FD <= m.Fo - FC\n",
      "\n",
      "10:  FM = FC for unobserved\n",
      "11:  FD = 0 for unobserved\n",
      "\n",
      "where Fo = Fobs\n",
      "      m  = FOM\n",
      "      FC = D*Fcalc (Fcalc corrected for parameter errors),\n",
      "      FM = 'minimally biased' Fourier coefficient,\n",
      "      FD = 'minimally biased' difference Fourier coefficient,\n",
      "      FM & FD are corrected for phase difference from phi(calc).\n",
      "\n",
      "<B><FONT COLOR=\"#FF0000\"><!--SUMMARY_BEGIN-->\n",
      "<html> <!-- CCP4 HTML LOGFILE -->\n",
      "<hr>\n",
      "<!--SUMMARY_END--></FONT></B>\n",
      "\n",
      " OPENED INPUT MTZ FILE \n",
      " Logical Name: HKLIN   Filename: /home/mkadukova/data/refinement_playground_clean/10gs/10gs.mtz \n",
      "\n",
      " * Title:\n",
      "\n",
      "   Output mtz file from refmac\n",
      "\n",
      " * Base dataset:\n",
      "\n",
      "        0 HKL_base\n",
      "          HKL_base\n",
      "          HKL_base\n",
      "\n",
      " * Number of Datasets = 1\n",
      "\n",
      " * Dataset ID, project/crystal/dataset names, cell dimensions, wavelength:\n",
      "\n",
      "        1 sf_convert\n",
      "          cryst_1\n",
      "          data_1\n",
      "             79.7230   90.4600   69.4040   90.0000   98.1900   90.0000\n",
      "             0.00000\n",
      "\n",
      " * Number of Columns = 17\n",
      "\n",
      " * Number of Reflections = 22104\n",
      "\n",
      " * Missing value set to NaN in input mtz file\n",
      "\n",
      " * Column Labels :\n",
      "\n",
      " H K L FREE FP SIGFP FC PHIC FC_ALL PHIC_ALL FWT PHWT DELFWT PHDELWT FOM FC_ALL_LS PHIC_ALL_LS\n",
      "\n",
      " * Column Types :\n",
      "\n",
      " H H H I F Q F P F P F P F P W F P\n",
      "\n",
      " * Associated datasets :\n",
      "\n",
      " 0 0 0 0 1 1 1 1 1 1 1 1 1 1 1 1 1\n",
      "\n",
      " * Cell Dimensions : (obsolete - refer to dataset cell dimensions above)\n",
      "\n",
      "   79.7230   90.4600   69.4040   90.0000   98.1900   90.0000 \n",
      "\n",
      " *  Resolution Range :\n",
      "\n",
      "    0.00270    0.20661     (     19.229 -      2.200 A )\n",
      "\n",
      " * Sort Order :\n",
      "\n",
      "      1     2     3     0     0\n",
      "\n",
      " * Space group = 'C 1 2 1' (number     5)\n",
      "\n",
      "\n",
      "Trying MTZ column labels:\n",
      "\n",
      "  FOSC  SIGFOSC  FC  PHIC  2FOFCWT  FOFCWT  FOM  PH2FOFCWT  PHFOFCWT  FREE\n",
      "\n",
      "Trying MTZ column labels:\n",
      "\n",
      "  FOSC  SIGFOSC  FC  PHIC  FWT  DELFWT  FOM  PHWT  PHDELWT  FREE\n",
      "\n",
      "Trying MTZ column labels:\n",
      "\n",
      "  FP  SIGFP  F-model  PHIF-model  2FOFCWT  FOFCWT  FOM  PH2FOFCWT  PHFOFCWT  R-free-flags\n",
      "\n",
      "Trying MTZ column labels:\n",
      "\n",
      "  FP  SIGFP  FC_ALL  PHIC_ALL  FWT  DELFWT  FOM  PHWT  PHDELWT  FREE\n",
      "\n",
      "File type from column labels appears to be REFMAC\n",
      "\n",
      "\n",
      "  ******   CENTRIC ZONES  ****** \n",
      "\n",
      "  CENTRIC Zone   1\n",
      "  Reflections of type  h0l \n",
      "\n",
      "\n",
      "C6  -36    0    1     234.8    86.4      77.8   180.     226.9     149.0   0.649   180.   180.    1\n",
      "C7  -36    0    1     234.8    86.4      77.8   180.     226.9     149.0   0.649   180.   180.    1\n",
      "C9  -36    0    5     131.5    55.4     158.8     0.      50.1    -108.8   0.794     0.   180.    1\n",
      "A3  -36    2    2     296.3    48.7     144.6   346.     369.1     224.6   0.867   346.   346.    1\n",
      "\n",
      "\n",
      "Passed test A1:  FC = 2m.Fo - FM\n",
      "Passed test A2:  FC >= 2m.Fo - FM\n",
      "Passed test A4:  FD = 2(FM - m.Fo)\n",
      "Passed test C5:  FC = 2m.Fo - FM\n",
      "Passed test C8:  FD = 2(m.Fo - FC)\n",
      "Passed test 10:  FM = FC for unobserved\n",
      "Passed test 11:  FD = 0 for unobserved\n",
      "\n",
      "FAILED test C6:  FM = m.Fo\n",
      "FAILED test C7:  FD = m.Fo - FC\n",
      "FAILED test C9:  FD <= m.Fo - FC\n",
      "\n",
      "FAILED a test - re-take!\n",
      "\n",
      "NOTE: uncorrected REFMAC files fail tests A4 & C6.\n",
      "\n",
      "\n",
      "TAKE CARE: Provenance of MTZ file cannot be determined!!!\n",
      "\n",
      "\n",
      " WRITTEN OUTPUT MTZ FILE \n",
      " Logical Name: HKLOUT   Filename: /home/mkadukova/data/refinement_playground_clean/10gs/10gs.fixed.mtz \n",
      "\n",
      "\n",
      " OPENED INPUT MTZ FILE \n",
      " Logical Name: HKLOUT   Filename: /home/mkadukova/data/refinement_playground_clean/10gs/10gs.fixed.mtz \n",
      "\n",
      " * Title:\n",
      "\n",
      "   Output mtz file from refmac\n",
      "\n",
      " * Base dataset:\n",
      "\n",
      "        0 HKL_base\n",
      "          HKL_base\n",
      "          HKL_base\n",
      "\n",
      " * Number of Datasets = 1\n",
      "\n",
      " * Dataset ID, project/crystal/dataset names, cell dimensions, wavelength:\n",
      "\n",
      "        1 sf_convert\n",
      "          cryst_1\n",
      "          data_1\n",
      "             79.7230   90.4600   69.4040   90.0000   98.1900   90.0000\n",
      "             0.00000\n",
      "\n",
      " * Number of Columns = 17\n",
      "\n",
      " * Number of Reflections = 22104\n",
      "\n",
      " * Missing value set to NaN in input mtz file\n",
      "\n",
      " * Column Labels :\n",
      "\n",
      " H K L FREE FP SIGFP FC PHIC FC_ALL PHIC_ALL FWT PHWT DELFWT PHDELWT FOM FC_ALL_LS PHIC_ALL_LS\n",
      "\n",
      " * Column Types :\n",
      "\n",
      " H H H I F Q F P F P F P F P W F P\n",
      "\n",
      " * Associated datasets :\n",
      "\n",
      " 0 0 0 0 1 1 1 1 1 1 1 1 1 1 1 1 1\n",
      "\n",
      " * Cell Dimensions : (obsolete - refer to dataset cell dimensions above)\n",
      "\n",
      "   79.7230   90.4600   69.4040   90.0000   98.1900   90.0000 \n",
      "\n",
      " *  Resolution Range :\n",
      "\n",
      "    0.00270    0.20661     (     19.229 -      2.200 A )\n",
      "\n",
      " * Sort Order :\n",
      "\n",
      "      1     2     3     0     0\n",
      "\n",
      " * Space group = 'C 1 2 1' (number     5)\n",
      "\n",
      "\n",
      "C5  -36    0    1     234.8    86.4      77.8   180.     152.4      74.5   0.649   180.   180.    1\n",
      "C8  -36    0    1     234.8    86.4      77.8   180.     152.4      74.5   0.649   180.   180.    1\n",
      "A3  -36    2    2     296.3    48.7     144.6   346.     369.1     224.6   0.867   346.   346.    1\n",
      "\n",
      "\n",
      "Passed test A1:  FC = 2m.Fo - FM\n",
      "Passed test A2:  FC >= 2m.Fo - FM\n",
      "Passed test A4:  FD = 2(FM - m.Fo)\n",
      "Passed test C6:  FM = m.Fo\n",
      "Passed test C7:  FD = m.Fo - FC\n",
      "Passed test C9:  FD <= m.Fo - FC\n",
      "Passed test 10:  FM = FC for unobserved\n",
      "Passed test 11:  FD = 0 for unobserved\n",
      "\n",
      "Passed all tests on re-take!\n",
      "\n",
      "\n",
      "MTZ file appears to be from REFMAC.\n",
      "\n",
      "FM, FD & FC columns appear to be correct.\n",
      "\n",
      "<B><FONT COLOR=\"#FF0000\"><!--SUMMARY_BEGIN-->\n"
     ]
    },
    {
     "data": {
      "text/plain": [
       "0"
      ]
     },
     "execution_count": 6,
     "metadata": {},
     "output_type": "execute_result"
    },
    {
     "name": "stdout",
     "output_type": "stream",
     "text": [
      " mtzfix:  Normal termination.\n",
      "Times: User:       0.2s System:    0.0s Elapsed:     0:00  \n",
      "</pre>\n",
      "</html>\n",
      "<!--SUMMARY_END--></FONT></B>\n"
     ]
    }
   ],
   "source": [
    "os.system(\"\"\"{0};mtzfix hklin {1} hklout {2} << eof-1\n",
    "end\n",
    "eof-1\"\"\".format(CMD_ccp4_source,\n",
    "                patt_com.format('mtz'),\n",
    "                patt_com.format('fixed.mtz'),\n",
    "                ))"
   ]
  },
  {
   "cell_type": "markdown",
   "id": "317d8d08",
   "metadata": {},
   "source": [
    "### Functions for map generation"
   ]
  },
  {
   "cell_type": "code",
   "execution_count": 7,
   "id": "6babe43a",
   "metadata": {},
   "outputs": [],
   "source": [
    "def pdb_mtz_2_ccp4(pdbin, mtzin, oname, fcol='FC', phcol='PHIC', ret=False,\n",
    "                  margin=5, grid_sample_rate=3, exact_size=None,\n",
    "                  do_extent=False, verbose=False):\n",
    "    \"\"\"\n",
    "    reads pdb and mtz, saves map to a ccp4\n",
    "    we only need the pdb for a correctly computed box & symmetries\n",
    "    \"\"\"\n",
    "    st = None\n",
    "    mtz = gemmi.read_mtz_file(mtzin)\n",
    "    if verbose:\n",
    "        print(list(mtz.column_labels()))\n",
    "    if exact_size is not None:\n",
    "        grid = mtz.transform_f_phi_to_map(fcol, phcol, sample_rate=grid_sample_rate,\n",
    "                                         exact_size=exact_size)\n",
    "    else:\n",
    "        grid = mtz.transform_f_phi_to_map(fcol, phcol, sample_rate=grid_sample_rate)\n",
    "    ccp4_map = gemmi.Ccp4Map()\n",
    "    ccp4_map.grid = grid\n",
    "    ccp4_map.update_ccp4_header()\n",
    "    if do_extent:\n",
    "        st = gemmi.read_structure(pdbin)\n",
    "        ccp4_map.set_extent(st.calculate_fractional_box(margin=margin))\n",
    "        ccp4_map.update_ccp4_header()\n",
    "    ccp4_map.write_ccp4_map(oname)\n",
    "    if ret:\n",
    "        return st, mtz, grid, ccp4_map"
   ]
  },
  {
   "cell_type": "code",
   "execution_count": 8,
   "id": "d86c02b6",
   "metadata": {},
   "outputs": [],
   "source": [
    "def run_gemmisfcalc(hklin, mapout, fcol, phcol, exact_size=None, pdb_file=None):\n",
    "    os.system('{0} sf2map \\\n",
    "           -f {3} -p {4}{5} {1} {2}'.format(\n",
    "        PATH_gemmi_exe,\n",
    "        hklin,\n",
    "        mapout,\n",
    "        fcol, phcol,\n",
    "        ' --grid={0},{1},{2} --exact'.format(*exact_size) if exact_size is not None else ''\n",
    "    ))"
   ]
  },
  {
   "cell_type": "code",
   "execution_count": 9,
   "id": "229af481",
   "metadata": {},
   "outputs": [],
   "source": [
    "def run_fft_simple(hklin, mapout, fcol, phcol):\n",
    "    os.system(\"\"\"{0};fft hklin {1} mapout {2} << eof-1\n",
    "        LABIN F1={3} PHI={4}\n",
    "        GRID SAMP 4\n",
    "        END\n",
    "        eof-1\"\"\".format(CMD_ccp4_source,\n",
    "                        hklin,\n",
    "                        mapout,\n",
    "                        fcol, phcol\n",
    "                        ))"
   ]
  },
  {
   "cell_type": "code",
   "execution_count": 10,
   "id": "0ccaf030",
   "metadata": {},
   "outputs": [],
   "source": [
    "def run_mtz2map(mtz_file, prefix_out, fcol, phcol, exact_size=None, pdb_file=None):\n",
    "    os.system('{0} \\\n",
    "              --mtz_file={1} --labels={2},{3} --output.prefix={4}.cctbx{5}{6}'.format(  # \n",
    "        CMD_mtz2map,\n",
    "        mtz_file,\n",
    "        fcol,\n",
    "        phcol,\n",
    "        prefix_out,\n",
    "        ' --gridding={0},{1},{2}'.format(*exact_size) if exact_size is not None else '',\n",
    "        ' --pdb_file={0}'.format(pdb_file) if pdb_file is not None else ''\n",
    "             )\n",
    "             )\n"
   ]
  },
  {
   "cell_type": "markdown",
   "id": "375f4e85",
   "metadata": {},
   "source": [
    "### Compare maps written with gemmi, mmtbx's mtz2map, and fft"
   ]
  },
  {
   "cell_type": "code",
   "execution_count": 11,
   "id": "a9ea9851",
   "metadata": {},
   "outputs": [],
   "source": [
    "pdb_mtz_2_ccp4(pdbin=path_com, \n",
    "               mtzin=patt_com.format('mtz'),\n",
    "               oname=patt_com.format('wfofc.ccp4'), \n",
    "               fcol='DELFWT', phcol='PHDELWT',\n",
    "               ret=False, \n",
    "               margin=0, grid_sample_rate=4,\n",
    "               exact_size=exact_size_, \n",
    "               verbose=False)\n",
    "\n",
    "pdb_mtz_2_ccp4(pdbin=path_com, \n",
    "               mtzin=patt_com.format('fixed.mtz'),\n",
    "               oname=patt_com.format('fixed.wfofc.ccp4'), \n",
    "               fcol='DELFWT', phcol='PHDELWT',\n",
    "               ret=False, \n",
    "               margin=0, grid_sample_rate=4,\n",
    "               exact_size=exact_size_, \n",
    "               verbose=False)\n",
    "\n",
    "# g = gemmi.read_ccp4_map(patt_com.format('wfofc.ccp4')).grid\n",
    "# print(g.nu, g.nv, g.nw)\n",
    "# print(gemmi.read_ccp4_map(patt_com.format('wfofc.ccp4')).axis_positions())"
   ]
  },
  {
   "cell_type": "code",
   "execution_count": 12,
   "id": "df207065",
   "metadata": {},
   "outputs": [],
   "source": [
    "run_gemmisfcalc(\n",
    "    patt_com.format('mtz'),\n",
    "    patt_com.format('gemmitool.wfofc.map'),\n",
    "    'DELFWT',\n",
    "    'PHDELWT',\n",
    "    exact_size_,\n",
    ")\n",
    "run_gemmisfcalc(\n",
    "    patt_com.format('fixed.mtz'),\n",
    "    patt_com.format('fixed.gemmitool.wfofc.map'),\n",
    "    'DELFWT',\n",
    "    'PHDELWT',\n",
    "    exact_size_,\n",
    ")"
   ]
  },
  {
   "cell_type": "code",
   "execution_count": 13,
   "id": "cbb80362",
   "metadata": {},
   "outputs": [
    {
     "name": "stderr",
     "output_type": "stream",
     "text": [
      "sh: line 4: warning: here-document at line 0 delimited by end-of-file (wanted `eof-1')\n"
     ]
    },
    {
     "name": "stdout",
     "output_type": "stream",
     "text": [
      "<B><FONT COLOR=\"#FF0000\"><!--SUMMARY_BEGIN-->\n",
      "<html> <!-- CCP4 HTML LOGFILE -->\n",
      "<hr>\n",
      "<!--SUMMARY_END--></FONT></B>\n",
      "<B><FONT COLOR=\"#FF0000\"><!--SUMMARY_BEGIN-->\n",
      "<pre>\n",
      " \n",
      " ###############################################################\n",
      " ###############################################################\n",
      " ###############################################################\n",
      " ### CCP4 7.1.016: FFTBIG           version 7.1.016 :         ##\n",
      " ###############################################################\n",
      " User: mkadukova  Run date: 19/10/2021 Run time: 15:44:16 \n",
      "\n",
      "\n",
      " Please reference: Collaborative Computational Project, Number 4. 2011.\n",
      " \"Overview of the CCP4 suite and current developments\". Acta Cryst. D67, 235-242.\n",
      " as well as any specific reference in the program write-up.\n",
      "\n",
      "<!--SUMMARY_END--></FONT></B>\n",
      " Data line---         LABIN F1=DELFWT PHI=PHDELWT\n",
      " Data line---         GRID SAMP 4\n",
      " Data line---         END\n",
      "\n",
      " OPENED INPUT MTZ FILE \n",
      " Logical Name: HKLIN   Filename: /home/mkadukova/data/refinement_playground_clean/10gs/10gs.mtz \n",
      "\n",
      " * Title:\n",
      "\n",
      "   Output mtz file from refmac\n",
      "\n",
      " * Base dataset:\n",
      "\n",
      "        0 HKL_base\n",
      "          HKL_base\n",
      "          HKL_base\n",
      "\n",
      " * Number of Datasets = 1\n",
      "\n",
      " * Dataset ID, project/crystal/dataset names, cell dimensions, wavelength:\n",
      "\n",
      "        1 sf_convert\n",
      "          cryst_1\n",
      "          data_1\n",
      "             79.7230   90.4600   69.4040   90.0000   98.1900   90.0000\n",
      "             0.00000\n",
      "\n",
      " * Number of Columns = 17\n",
      "\n",
      " * Number of Reflections = 22104\n",
      "\n",
      " * Missing value set to NaN in input mtz file\n",
      "\n",
      " * HISTORY for current MTZ file :\n",
      "\n",
      "\n",
      " * Column Labels :\n",
      "\n",
      " H K L FREE FP SIGFP FC PHIC FC_ALL PHIC_ALL FWT PHWT DELFWT PHDELWT FOM FC_ALL_LS PHIC_ALL_LS\n",
      "\n",
      " * Column Types :\n",
      "\n",
      " H H H I F Q F P F P F P F P W F P\n",
      "\n",
      " * Associated datasets :\n",
      "\n",
      " 0 0 0 0 1 1 1 1 1 1 1 1 1 1 1 1 1\n",
      "\n",
      " * Cell Dimensions : (obsolete - refer to dataset cell dimensions above)\n",
      "\n",
      "   79.7230   90.4600   69.4040   90.0000   98.1900   90.0000 \n",
      "\n",
      " *  Resolution Range :\n",
      "\n",
      "    0.00270    0.20661     (     19.229 -      2.200 A )\n",
      "\n",
      " * Sort Order :\n",
      "\n",
      "      1     2     3     0     0\n",
      "\n",
      " * Space group = 'C 1 2 1' (number     5)\n",
      "\n",
      " Map cell is set to:   79.72   90.46   69.40   90.00   98.19   90.00\n",
      "  FREE column NOT assigned\n",
      "\n",
      "\n",
      " Coefficients used for Fourier calculation:-\n",
      " *******************************************\n",
      "\n",
      "\n",
      " Fourier synthesis: ( k1 * F1) exp( i PHI)\n",
      "\n",
      "    F1   =  DELFWT\n",
      "    PHI  =  PHDELWT                       \n",
      "\n",
      "\n",
      "\n",
      " Resolution limits:     19.23     2.20\n",
      " Scale & B for F1 :    1.00000  0.00000\n",
      "\n",
      " *  F used = Scale * exp(- B * (sin theta/lambda)**2);  ** Scale and B applied to F BEFORE squaring for Patterson  **\n",
      "\n",
      "\n",
      " *** No reflections excluded ***\n",
      "\n",
      "\n",
      "\n",
      "\n",
      " Number of symmetry operations = 2 Space-group for FFT =   1  True space-group =   5 List terms gt     0\n",
      "\n",
      " Axis order in map: fast=Z,  medium= X,  slow(section)= Y\n",
      "\n",
      "\n",
      " ** The limits of the map have been set to those of\n",
      " the unit cell:\n",
      "\n",
      "    Min X   Max X   Min Y   Max Y   Min Z   Max Z\n",
      "    0.000   1.000   0.000   1.000   0.000   1.000\n",
      "\n",
      " (expressed in fractional coordinates and with x,y,z\n",
      "  referring to the unpermutated axes.)\n",
      "\n",
      "\n",
      " Permutation of axes: (program=input)  x= X,  y= Y,  z= Z\n",
      "\n",
      " Before permutation :\n",
      "           Maximum indices hkl ...................   36   41   32\n",
      "           Sampling intervals on xyz .............  144  168  130\n",
      "           Map limits in grid points on xyz ......    0  143       0  167       0  129\n",
      "\n",
      " Binary map will be written to stream   1\n",
      "\n",
      " Data is assumed to be unsorted\n",
      " After permutation :\n",
      "           Maximum indices hkl ...................   36   41   32\n",
      "           Sampling intervals on xyz .............  144  168  130\n",
      "           Map limits in grid points on xyz ......    0  143       0  167       0  129\n",
      "\n",
      "\n",
      "\n",
      "\n",
      "\n",
      "\n",
      "                              Fourier synthesis for space-group P1\n",
      "\n",
      "  Buffer size =     3193344\n",
      "\n",
      "\n",
      "\n",
      "  ****  Largest F Value *** Reflection  -3  3  2        1030.74\n",
      "\n",
      "                                         Mean F          126.14\n",
      "\n",
      "      42052 Structure factors used out of 22104 on the input file\n",
      "\n",
      " Logical Name: MAPOUT   Filename: /home/mkadukova/data/refinement_playground_clean/10gs/10gs.fft.wfofc.map \n",
      "\n",
      "File name for output map file on unit   1 : /home/mkadukova/data/refinement_playground_clean/10gs/10gs.fft.wfofc.map\n",
      "logical name MAPOUT\n",
      "\n",
      " F000 =    0.000E+00          V =    4.954E+05\n",
      "\n",
      " Section axis is Y\n",
      "\n",
      " Binary output has Z running fastest, X next\n",
      "  Section Y =   0 minimum rho =        -0.4533 at X =  71 Z =  68 maximum rho =         0.5374 at X = 127 Z =  58\n",
      "  Section Y =   1 minimum rho =        -0.4551 at X =  72 Z =  62 maximum rho =         0.4610 at X = 141 Z =  30\n",
      "  Section Y =   2 minimum rho =        -0.4120 at X =  71 Z =  61 maximum rho =         0.4883 at X =  77 Z = 104\n",
      "  Section Y =   3 minimum rho =        -0.4590 at X =  70 Z =  60 maximum rho =         0.5937 at X =  67 Z =  26\n",
      "  Section Y =   4 minimum rho =        -0.4682 at X =  70 Z =  59 maximum rho =         0.6196 at X =  69 Z =  70\n",
      "  Section Y =   5 minimum rho =        -0.3815 at X =  70 Z =  59 maximum rho =         0.6583 at X =  68 Z =  70\n",
      "  Section Y =   6 minimum rho =        -0.3268 at X =  12 Z =  94 maximum rho =         0.6470 at X =  68 Z =  71\n",
      "  Section Y =   7 minimum rho =        -0.3196 at X =  12 Z =  94 maximum rho =         0.5796 at X =  68 Z =  71\n",
      "  Section Y =   8 minimum rho =        -0.3857 at X = 115 Z =   2 maximum rho =         0.4798 at X =  68 Z =  71\n",
      "  Section Y =   9 minimum rho =        -0.3724 at X = 115 Z =   2 maximum rho =         0.3725 at X =  69 Z =  71\n",
      "  Section Y =  10 minimum rho =        -0.3915 at X =  53 Z =  15 maximum rho =         0.4129 at X =   5 Z =  36\n",
      "  Section Y =  11 minimum rho =        -0.3891 at X =  53 Z =  15 maximum rho =         0.4681 at X =   6 Z =  36\n",
      "  Section Y =  12 minimum rho =        -0.3270 at X =  15 Z =  91 maximum rho =         0.3805 at X = 138 Z =  94\n",
      "  Section Y =  13 minimum rho =        -0.3127 at X =  42 Z = 123 maximum rho =         0.4427 at X =  67 Z =  80\n",
      "  Section Y =  14 minimum rho =        -0.3175 at X =  12 Z =  39 maximum rho =         0.4536 at X =  67 Z =  80\n",
      "  Section Y =  15 minimum rho =        -0.3688 at X =  37 Z =  40 maximum rho =         0.3319 at X = 121 Z =  99\n",
      "  Section Y =  16 minimum rho =        -0.3265 at X =  37 Z =  40 maximum rho =         0.4122 at X = 121 Z =  99\n",
      "  Section Y =  17 minimum rho =        -0.3581 at X =   4 Z =  21 maximum rho =         0.3901 at X =  24 Z =  30\n",
      "  Section Y =  18 minimum rho =        -0.4273 at X =   4 Z =  21 maximum rho =         0.4315 at X =  56 Z =  73\n",
      "  Section Y =  19 minimum rho =        -0.3823 at X =   5 Z =  21 maximum rho =         0.3335 at X =  12 Z =  52\n",
      "  Section Y =  20 minimum rho =        -0.3366 at X =  68 Z = 129 maximum rho =         0.3835 at X = 110 Z =  46\n",
      "  Section Y =  21 minimum rho =        -0.4030 at X =  68 Z = 129 maximum rho =         0.3500 at X =  75 Z =  77\n",
      "  Section Y =  22 minimum rho =        -0.4084 at X =  68 Z = 129 maximum rho =         0.3464 at X =  74 Z =  77\n",
      "  Section Y =  23 minimum rho =        -0.3531 at X = 103 Z =  97 maximum rho =         0.3510 at X =  65 Z =  43\n",
      "  Section Y =  24 minimum rho =        -0.3323 at X =  67 Z =  69 maximum rho =         0.3973 at X =  75 Z =  65\n",
      "  Section Y =  25 minimum rho =        -0.2978 at X =  46 Z =  24 maximum rho =         0.4393 at X =  27 Z = 118\n",
      "  Section Y =  26 minimum rho =        -0.3442 at X = 114 Z = 104 maximum rho =         0.4221 at X =  77 Z =   5\n",
      "  Section Y =  27 minimum rho =        -0.3211 at X =  56 Z =  22 maximum rho =         0.3998 at X =  66 Z =  81\n",
      "  Section Y =  28 minimum rho =        -0.3679 at X = 137 Z =  88 maximum rho =         0.3143 at X = 129 Z = 114\n",
      "  Section Y =  29 minimum rho =        -0.3243 at X =  82 Z = 113 maximum rho =         0.4145 at X =  91 Z =  64\n",
      "  Section Y =  30 minimum rho =        -0.3575 at X =  65 Z =  64 maximum rho =         0.4660 at X =  92 Z =  65\n",
      "  Section Y =  31 minimum rho =        -0.3734 at X =  65 Z =  65 maximum rho =         0.3302 at X =  93 Z =  65\n",
      "  Section Y =  32 minimum rho =        -0.3535 at X =  84 Z =  73 maximum rho =         0.3189 at X =  20 Z =  20\n",
      "  Section Y =  33 minimum rho =        -0.3926 at X = 137 Z = 109 maximum rho =         0.2876 at X =  74 Z =  86\n",
      "  Section Y =  34 minimum rho =        -0.3511 at X =   7 Z =  21 maximum rho =         0.4629 at X =  39 Z =  25\n",
      "  Section Y =  35 minimum rho =        -0.3047 at X =  45 Z =  86 maximum rho =         0.6509 at X =  39 Z =  25\n",
      "  Section Y =  36 minimum rho =        -0.3262 at X =  20 Z =  16 maximum rho =         0.6500 at X =  39 Z =  25\n",
      "  Section Y =  37 minimum rho =        -0.3344 at X =  33 Z =  67 maximum rho =         0.4116 at X =  39 Z =  25\n",
      "  Section Y =  38 minimum rho =        -0.3238 at X =  92 Z =  74 maximum rho =         0.3930 at X =  45 Z = 120\n",
      "  Section Y =  39 minimum rho =        -0.3401 at X =  73 Z =  14 maximum rho =         0.4647 at X =  68 Z =   4\n",
      "  Section Y =  40 minimum rho =        -0.3177 at X =  71 Z = 116 maximum rho =         0.5372 at X =  68 Z =   4\n",
      "  Section Y =  41 minimum rho =        -0.3305 at X =  16 Z = 120 maximum rho =         0.5302 at X =  68 Z =   5\n",
      "  Section Y =  42 minimum rho =        -0.3458 at X =  21 Z = 112 maximum rho =         0.4660 at X =  76 Z = 125\n",
      "  Section Y =  43 minimum rho =        -0.3806 at X =  22 Z = 112 maximum rho =         0.3960 at X =   3 Z =  93\n",
      "  Section Y =  44 minimum rho =        -0.4050 at X =  21 Z = 113 maximum rho =         0.3963 at X =   3 Z =  93\n",
      "  Section Y =  45 minimum rho =        -0.4235 at X =  72 Z =   6 maximum rho =         0.3888 at X =   2 Z =  52\n",
      "  Section Y =  46 minimum rho =        -0.3660 at X =  72 Z =   7 maximum rho =         0.4355 at X =  74 Z =  73\n",
      "  Section Y =  47 minimum rho =        -0.3843 at X =   1 Z =  82 maximum rho =         0.4265 at X =  63 Z =   4\n",
      "  Section Y =  48 minimum rho =        -0.3586 at X =  65 Z =  80 maximum rho =         0.4996 at X =  64 Z =   4\n",
      "  Section Y =  49 minimum rho =        -0.2820 at X =  95 Z =   9 maximum rho =         0.4372 at X =  80 Z = 127\n",
      "  Section Y =  50 minimum rho =        -0.3207 at X =   5 Z =  93 maximum rho =         0.4054 at X =   4 Z =  85\n",
      "  Section Y =  51 minimum rho =        -0.3166 at X = 139 Z = 121 maximum rho =         0.3797 at X =   6 Z = 109\n",
      "  Section Y =  52 minimum rho =        -0.3166 at X = 111 Z =  41 maximum rho =         0.3887 at X =  75 Z =  70\n",
      "  Section Y =  53 minimum rho =        -0.3145 at X =  20 Z = 111 maximum rho =         0.4055 at X =  75 Z =  70\n",
      "  Section Y =  54 minimum rho =        -0.3681 at X =  49 Z =   0 maximum rho =         0.3763 at X =  75 Z =  71\n",
      "  Section Y =  55 minimum rho =        -0.3502 at X =  49 Z =   0 maximum rho =         0.3686 at X = 122 Z =   2\n",
      "  Section Y =  56 minimum rho =        -0.3534 at X =  70 Z =  53 maximum rho =         0.4008 at X =  38 Z =  73\n",
      "  Section Y =  57 minimum rho =        -0.3413 at X = 140 Z = 106 maximum rho =         0.4238 at X =  27 Z =  19\n",
      "  Section Y =  58 minimum rho =        -0.3448 at X = 140 Z = 106 maximum rho =         0.4573 at X =  16 Z = 114\n",
      "  Section Y =  59 minimum rho =        -0.3350 at X =  39 Z =   1 maximum rho =         0.4591 at X =  16 Z = 114\n",
      "  Section Y =  60 minimum rho =        -0.3530 at X =  38 Z =   1 maximum rho =         0.3455 at X =  35 Z =   7\n",
      "  Section Y =  61 minimum rho =        -0.3044 at X =  55 Z =  12 maximum rho =         0.4268 at X =  51 Z =  54\n",
      "  Section Y =  62 minimum rho =        -0.3142 at X = 116 Z = 107 maximum rho =         0.4217 at X =  56 Z =  49\n",
      "  Section Y =  63 minimum rho =        -0.3316 at X =  11 Z =  72 maximum rho =         0.4919 at X =  57 Z =  49\n",
      "  Section Y =  64 minimum rho =        -0.3237 at X =  11 Z =  71 maximum rho =         0.4082 at X =  56 Z =  50\n",
      "  Section Y =  65 minimum rho =        -0.3617 at X = 116 Z =   4 maximum rho =         0.4234 at X =  25 Z =  20\n",
      "  Section Y =  66 minimum rho =        -0.3562 at X = 104 Z =  40 maximum rho =         0.4137 at X = 120 Z =  84\n",
      "  Section Y =  67 minimum rho =        -0.3524 at X = 111 Z =  51 maximum rho =         0.3927 at X =  21 Z =  40\n",
      "  Section Y =  68 minimum rho =        -0.3419 at X =  93 Z =  72 maximum rho =         0.3232 at X =  27 Z =  55\n",
      "  Section Y =  69 minimum rho =        -0.3319 at X =  21 Z =   0 maximum rho =         0.3471 at X =  52 Z =  86\n",
      "  Section Y =  70 minimum rho =        -0.3417 at X = 123 Z =   0 maximum rho =         0.3483 at X =   1 Z =  37\n",
      "  Section Y =  71 minimum rho =        -0.3205 at X =  41 Z =  31 maximum rho =         0.3199 at X =   1 Z =  36\n",
      "  Section Y =  72 minimum rho =        -0.3233 at X = 110 Z =   1 maximum rho =         0.3812 at X =  13 Z =  63\n",
      "  Section Y =  73 minimum rho =        -0.3525 at X =  84 Z =  86 maximum rho =         0.3612 at X =  13 Z =  63\n",
      "  Section Y =  74 minimum rho =        -0.3726 at X =  85 Z =  86 maximum rho =         0.3802 at X =  79 Z =   8\n",
      "  Section Y =  75 minimum rho =        -0.2920 at X =  54 Z =  16 maximum rho =         0.3316 at X =  61 Z =  91\n",
      "  Section Y =  76 minimum rho =        -0.3455 at X =  16 Z = 112 maximum rho =         0.3591 at X =  98 Z = 117\n",
      "  Section Y =  77 minimum rho =        -0.3835 at X = 135 Z =  56 maximum rho =         0.3860 at X =   6 Z =  60\n",
      "  Section Y =  78 minimum rho =        -0.3757 at X = 135 Z =  57 maximum rho =         0.4357 at X = 121 Z =  80\n",
      "  Section Y =  79 minimum rho =        -0.3458 at X = 135 Z =  69 maximum rho =         0.3737 at X =  51 Z =  29\n",
      "  Section Y =  80 minimum rho =        -0.3623 at X =  42 Z =   0 maximum rho =         0.4253 at X =   3 Z =  29\n",
      "  Section Y =  81 minimum rho =        -0.3989 at X =  42 Z =   0 maximum rho =         0.5045 at X =   8 Z =  55\n",
      "  Section Y =  82 minimum rho =        -0.3412 at X =  68 Z =  18 maximum rho =         0.6304 at X =   5 Z =  52\n",
      "  Section Y =  83 minimum rho =        -0.3457 at X =   1 Z =  63 maximum rho =         0.6380 at X =   5 Z =  52\n",
      "  Section Y =  84 minimum rho =        -0.4533 at X =   1 Z =  62 maximum rho =         0.5374 at X =  55 Z =  58\n",
      "  Section Y =  85 minimum rho =        -0.4551 at X =   0 Z =  62 maximum rho =         0.4610 at X =  69 Z =  30\n",
      "  Section Y =  86 minimum rho =        -0.4120 at X = 143 Z =  61 maximum rho =         0.4883 at X =   5 Z = 104\n",
      "  Section Y =  87 minimum rho =        -0.4590 at X = 142 Z =  60 maximum rho =         0.5937 at X =   5 Z = 104\n",
      "  Section Y =  88 minimum rho =        -0.4682 at X = 142 Z =  59 maximum rho =         0.6196 at X =   3 Z =  60\n",
      "  Section Y =  89 minimum rho =        -0.3815 at X = 142 Z =  59 maximum rho =         0.6583 at X = 140 Z =  70\n",
      "  Section Y =  90 minimum rho =        -0.3268 at X =  60 Z =  36 maximum rho =         0.6470 at X =   4 Z =  59\n",
      "  Section Y =  91 minimum rho =        -0.3196 at X =  84 Z =  94 maximum rho =         0.5796 at X = 140 Z =  71\n",
      "  Section Y =  92 minimum rho =        -0.3857 at X =  43 Z =   2 maximum rho =         0.4798 at X = 140 Z =  71\n",
      "  Section Y =  93 minimum rho =        -0.3724 at X =  43 Z =   2 maximum rho =         0.3725 at X = 141 Z =  71\n",
      "  Section Y =  94 minimum rho =        -0.3915 at X = 125 Z =  15 maximum rho =         0.4129 at X =  67 Z =  94\n",
      "  Section Y =  95 minimum rho =        -0.3891 at X = 125 Z =  15 maximum rho =         0.4681 at X =  66 Z =  94\n",
      "  Section Y =  96 minimum rho =        -0.3270 at X =  57 Z =  39 maximum rho =         0.3805 at X =  66 Z =  94\n",
      "  Section Y =  97 minimum rho =        -0.3127 at X = 114 Z = 123 maximum rho =         0.4427 at X = 139 Z =  80\n",
      "  Section Y =  98 minimum rho =        -0.3175 at X =  84 Z =  39 maximum rho =         0.4536 at X = 139 Z =  80\n",
      "  Section Y =  99 minimum rho =        -0.3688 at X = 109 Z =  40 maximum rho =         0.3319 at X =  49 Z =  99\n",
      "  Section Y = 100 minimum rho =        -0.3265 at X =  35 Z =  90 maximum rho =         0.4122 at X =  49 Z =  99\n",
      "  Section Y = 101 minimum rho =        -0.3581 at X =  68 Z = 109 maximum rho =         0.3901 at X =  48 Z = 100\n",
      "  Section Y = 102 minimum rho =        -0.4273 at X =  76 Z =  21 maximum rho =         0.4315 at X = 128 Z =  73\n",
      "  Section Y = 103 minimum rho =        -0.3823 at X =  67 Z = 109 maximum rho =         0.3335 at X =  84 Z =  52\n",
      "  Section Y = 104 minimum rho =        -0.3366 at X = 140 Z = 129 maximum rho =         0.3835 at X =  38 Z =  46\n",
      "  Section Y = 105 minimum rho =        -0.4030 at X = 140 Z = 129 maximum rho =         0.3500 at X =   3 Z =  77\n",
      "  Section Y = 106 minimum rho =        -0.4084 at X = 140 Z = 129 maximum rho =         0.3464 at X =   2 Z =  77\n",
      "  Section Y = 107 minimum rho =        -0.3531 at X =  31 Z =  97 maximum rho =         0.3510 at X = 137 Z =  43\n",
      "  Section Y = 108 minimum rho =        -0.3323 at X = 139 Z =  69 maximum rho =         0.3973 at X =   3 Z =  65\n",
      "  Section Y = 109 minimum rho =        -0.2978 at X =  26 Z = 106 maximum rho =         0.4393 at X =  99 Z = 118\n",
      "  Section Y = 110 minimum rho =        -0.3442 at X =  42 Z = 104 maximum rho =         0.4221 at X =   5 Z =   5\n",
      "  Section Y = 111 minimum rho =        -0.3211 at X = 128 Z =  22 maximum rho =         0.3998 at X = 138 Z =  81\n",
      "  Section Y = 112 minimum rho =        -0.3679 at X =  65 Z =  88 maximum rho =         0.3143 at X =  57 Z = 114\n",
      "  Section Y = 113 minimum rho =        -0.3243 at X =  10 Z = 113 maximum rho =         0.4145 at X =  19 Z =  64\n",
      "  Section Y = 114 minimum rho =        -0.3575 at X = 137 Z =  64 maximum rho =         0.4660 at X =  20 Z =  65\n",
      "  Section Y = 115 minimum rho =        -0.3734 at X = 137 Z =  65 maximum rho =         0.3302 at X =  21 Z =  65\n",
      "  Section Y = 116 minimum rho =        -0.3535 at X =  12 Z =  73 maximum rho =         0.3189 at X =  92 Z =  20\n",
      "  Section Y = 117 minimum rho =        -0.3926 at X =  65 Z = 109 maximum rho =         0.2876 at X =   2 Z =  86\n",
      "  Section Y = 118 minimum rho =        -0.3511 at X =  65 Z = 109 maximum rho =         0.4629 at X = 111 Z =  25\n",
      "  Section Y = 119 minimum rho =        -0.3047 at X =  27 Z =  44 maximum rho =         0.6509 at X = 111 Z =  25\n",
      "  Section Y = 120 minimum rho =        -0.3262 at X =  92 Z =  16 maximum rho =         0.6500 at X =  33 Z = 105\n",
      "  Section Y = 121 minimum rho =        -0.3344 at X =  39 Z =  63 maximum rho =         0.4116 at X =  33 Z = 105\n",
      "  Section Y = 122 minimum rho =        -0.3238 at X =  20 Z =  74 maximum rho =         0.3930 at X =  27 Z =  10\n",
      "  Section Y = 123 minimum rho =        -0.3401 at X =   1 Z =  14 maximum rho =         0.4647 at X = 140 Z =   4\n",
      "  Section Y = 124 minimum rho =        -0.3177 at X =   1 Z =  14 maximum rho =         0.5372 at X = 140 Z =   4\n",
      "  Section Y = 125 minimum rho =        -0.3305 at X =  88 Z = 120 maximum rho =         0.5302 at X =   4 Z = 125\n",
      "  Section Y = 126 minimum rho =        -0.3458 at X =  51 Z =  18 maximum rho =         0.4660 at X =   4 Z = 125\n",
      "  Section Y = 127 minimum rho =        -0.3806 at X =  50 Z =  18 maximum rho =         0.3960 at X =  75 Z =  93\n",
      "  Section Y = 128 minimum rho =        -0.4050 at X =  93 Z = 113 maximum rho =         0.3963 at X =  75 Z =  93\n",
      "  Section Y = 129 minimum rho =        -0.4235 at X =   0 Z =   6 maximum rho =         0.3888 at X =  74 Z =  52\n",
      "  Section Y = 130 minimum rho =        -0.3660 at X =   0 Z =   7 maximum rho =         0.4355 at X =   2 Z =  73\n",
      "  Section Y = 131 minimum rho =        -0.3843 at X =  73 Z =  82 maximum rho =         0.4265 at X =   9 Z = 126\n",
      "  Section Y = 132 minimum rho =        -0.3586 at X = 137 Z =  80 maximum rho =         0.4996 at X =   8 Z = 126\n",
      "  Section Y = 133 minimum rho =        -0.2820 at X =  23 Z =   9 maximum rho =         0.4372 at X =   8 Z = 127\n",
      "  Section Y = 134 minimum rho =        -0.3207 at X =  77 Z =  93 maximum rho =         0.4054 at X =  68 Z =  45\n",
      "  Section Y = 135 minimum rho =        -0.3166 at X =  67 Z = 121 maximum rho =         0.3797 at X =  78 Z = 109\n",
      "  Section Y = 136 minimum rho =        -0.3166 at X =  39 Z =  41 maximum rho =         0.3887 at X =   3 Z =  70\n",
      "  Section Y = 137 minimum rho =        -0.3145 at X =  52 Z =  19 maximum rho =         0.4055 at X =   3 Z =  70\n",
      "  Section Y = 138 minimum rho =        -0.3681 at X = 121 Z =   0 maximum rho =         0.3763 at X =   3 Z =  71\n",
      "  Section Y = 139 minimum rho =        -0.3502 at X = 121 Z =   0 maximum rho =         0.3686 at X =  50 Z =   2\n",
      "  Section Y = 140 minimum rho =        -0.3534 at X = 142 Z =  53 maximum rho =         0.4008 at X =  34 Z =  57\n",
      "  Section Y = 141 minimum rho =        -0.3413 at X =  68 Z = 106 maximum rho =         0.4238 at X =  99 Z =  19\n",
      "  Section Y = 142 minimum rho =        -0.3448 at X =  68 Z = 106 maximum rho =         0.4573 at X =  56 Z =  16\n",
      "  Section Y = 143 minimum rho =        -0.3350 at X = 111 Z =   1 maximum rho =         0.4591 at X =  56 Z =  16\n",
      "  Section Y = 144 minimum rho =        -0.3530 at X = 110 Z =   1 maximum rho =         0.3455 at X = 107 Z =   7\n",
      "  Section Y = 145 minimum rho =        -0.3044 at X = 127 Z =  12 maximum rho =         0.4268 at X =  21 Z =  76\n",
      "  Section Y = 146 minimum rho =        -0.3142 at X =  44 Z = 107 maximum rho =         0.4217 at X = 128 Z =  49\n",
      "  Section Y = 147 minimum rho =        -0.3316 at X =  83 Z =  72 maximum rho =         0.4919 at X =  15 Z =  81\n",
      "  Section Y = 148 minimum rho =        -0.3237 at X =  61 Z =  59 maximum rho =         0.4082 at X =  16 Z =  80\n",
      "  Section Y = 149 minimum rho =        -0.3617 at X =  44 Z =   4 maximum rho =         0.4234 at X =  97 Z =  20\n",
      "  Section Y = 150 minimum rho =        -0.3562 at X =  32 Z =  40 maximum rho =         0.4137 at X =  48 Z =  84\n",
      "  Section Y = 151 minimum rho =        -0.3524 at X =  39 Z =  51 maximum rho =         0.3927 at X =  93 Z =  40\n",
      "  Section Y = 152 minimum rho =        -0.3419 at X =  21 Z =  72 maximum rho =         0.3232 at X =  99 Z =  55\n",
      "  Section Y = 153 minimum rho =        -0.3319 at X =  51 Z =   0 maximum rho =         0.3471 at X = 124 Z =  86\n",
      "  Section Y = 154 minimum rho =        -0.3417 at X =  51 Z =   0 maximum rho =         0.3483 at X =  73 Z =  37\n",
      "  Section Y = 155 minimum rho =        -0.3205 at X = 113 Z =  31 maximum rho =         0.3199 at X =  73 Z =  36\n",
      "  Section Y = 156 minimum rho =        -0.3233 at X =  38 Z =   1 maximum rho =         0.3812 at X =  85 Z =  63\n",
      "  Section Y = 157 minimum rho =        -0.3525 at X =  12 Z =  86 maximum rho =         0.3612 at X =  85 Z =  63\n",
      "  Section Y = 158 minimum rho =        -0.3726 at X =  13 Z =  86 maximum rho =         0.3802 at X =   7 Z =   8\n",
      "  Section Y = 159 minimum rho =        -0.2920 at X =  18 Z = 114 maximum rho =         0.3316 at X = 133 Z =  91\n",
      "  Section Y = 160 minimum rho =        -0.3455 at X =  88 Z = 112 maximum rho =         0.3591 at X =  26 Z = 117\n",
      "  Section Y = 161 minimum rho =        -0.3835 at X =  63 Z =  56 maximum rho =         0.3860 at X =  78 Z =  60\n",
      "  Section Y = 162 minimum rho =        -0.3757 at X =  63 Z =  57 maximum rho =         0.4357 at X =  49 Z =  80\n",
      "  Section Y = 163 minimum rho =        -0.3458 at X =  63 Z =  69 maximum rho =         0.3737 at X = 123 Z =  29\n",
      "  Section Y = 164 minimum rho =        -0.3623 at X = 114 Z =   0 maximum rho =         0.4253 at X =  75 Z =  29\n",
      "  Section Y = 165 minimum rho =        -0.3989 at X =  30 Z =   0 maximum rho =         0.5045 at X =  64 Z =  75\n",
      "  Section Y = 166 minimum rho =        -0.3412 at X = 140 Z =  18 maximum rho =         0.6304 at X =  67 Z =  78\n",
      "  Section Y = 167 minimum rho =        -0.3457 at X =  71 Z =  67 maximum rho =         0.6380 at X =  67 Z =  78\n",
      "\n",
      "\n",
      " Overall maximum rho =          0.6583 on section Y =   5 at X =  68 Z =  70\n",
      "\n",
      "\n",
      " Overall minimum rho =         -0.4682 on section Y =   4 at X =  70 Z =  59\n",
      "\n",
      "  Average density on this map is         -0.00000000\n",
      "\n",
      " Logical Name: MAPOUT   Filename: /home/mkadukova/data/refinement_playground_clean/10gs/10gs.fft.wfofc.map \n",
      "\n",
      "File name for input map file on unit   1 : /home/mkadukova/data/refinement_playground_clean/10gs/10gs.fft.wfofc.map\n",
      "file size 12581184 ; logical name MAPOUT\n",
      "\n",
      "\n",
      "\n",
      "           Number of columns, rows, sections ...............  130  144  168\n",
      "           Map mode ........................................    2\n",
      "           Start and stop points on columns, rows, sections     0  129    0  143    0  167\n",
      "           Grid sampling on x, y, z ........................  144  168  130\n",
      "           Cell dimensions .................................   79.7230    90.4600    69.4040    90.0000    98.1900    90.0000\n",
      "           Fast, medium, slow axes .........................    Z    X    Y\n",
      "           Minimum density .................................    -0.46819\n",
      "           Maximum density .................................     0.65828\n",
      "           Mean density ....................................    -0.00000\n",
      "           Rms deviation from mean density .................     0.09444\n",
      "           Space-group .....................................    5\n",
      "           Number of titles ................................    1\n",
      "\n",
      "\n",
      "     Labels:                            \n",
      "   Map from fft\n",
      "\n",
      "\n",
      "<B><FONT COLOR=\"#FF0000\"><!--SUMMARY_BEGIN-->\n",
      " FFTBIG:  Normal termination\n",
      "Times: User:       0.2s System:    0.0s Elapsed:     0:00  \n",
      "</pre>\n",
      "</html>\n",
      "<!--SUMMARY_END--></FONT></B>\n",
      "<B><FONT COLOR=\"#FF0000\"><!--SUMMARY_BEGIN-->\n",
      "<html> <!-- CCP4 HTML LOGFILE -->\n",
      "<hr>\n",
      "<!--SUMMARY_END--></FONT></B>\n",
      "<B><FONT COLOR=\"#FF0000\"><!--SUMMARY_BEGIN-->\n",
      "<pre>\n",
      " \n",
      " ###############################################################\n",
      " ###############################################################\n",
      " ###############################################################\n",
      " ### CCP4 7.1.016: FFTBIG           version 7.1.016 :         ##\n",
      " ###############################################################\n",
      " User: mkadukova  Run date: 19/10/2021 Run time: 15:44:16 \n",
      "\n",
      "\n",
      " Please reference: Collaborative Computational Project, Number 4. 2011.\n",
      " \"Overview of the CCP4 suite and current developments\". Acta Cryst. D67, 235-242.\n",
      " as well as any specific reference in the program write-up.\n",
      "\n",
      "<!--SUMMARY_END--></FONT></B>\n",
      " Data line---         LABIN F1=DELFWT PHI=PHDELWT\n",
      " Data line---         GRID SAMP 4\n",
      " Data line---         END\n",
      "\n",
      " OPENED INPUT MTZ FILE \n",
      " Logical Name: HKLIN   Filename: /home/mkadukova/data/refinement_playground_clean/10gs/10gs.fixed.mtz \n",
      "\n",
      " * Title:\n",
      "\n",
      "   Output mtz file from refmac\n",
      "\n",
      " * Base dataset:\n",
      "\n",
      "        0 HKL_base\n",
      "          HKL_base\n",
      "          HKL_base\n",
      "\n",
      " * Number of Datasets = 1\n",
      "\n",
      " * Dataset ID, project/crystal/dataset names, cell dimensions, wavelength:\n",
      "\n",
      "        1 sf_convert\n",
      "          cryst_1\n",
      "          data_1\n",
      "             79.7230   90.4600   69.4040   90.0000   98.1900   90.0000\n",
      "             0.00000\n",
      "\n",
      " * Number of Columns = 17\n",
      "\n",
      " * Number of Reflections = 22104\n",
      "\n",
      " * Missing value set to NaN in input mtz file\n",
      "\n",
      " * HISTORY for current MTZ file :\n",
      "\n",
      "\n",
      " * Column Labels :\n",
      "\n",
      " H K L FREE FP SIGFP FC PHIC FC_ALL PHIC_ALL FWT PHWT DELFWT PHDELWT FOM FC_ALL_LS PHIC_ALL_LS\n",
      "\n",
      " * Column Types :\n",
      "\n",
      " H H H I F Q F P F P F P F P W F P\n",
      "\n",
      " * Associated datasets :\n",
      "\n",
      " 0 0 0 0 1 1 1 1 1 1 1 1 1 1 1 1 1\n",
      "\n",
      " * Cell Dimensions : (obsolete - refer to dataset cell dimensions above)\n",
      "\n",
      "   79.7230   90.4600   69.4040   90.0000   98.1900   90.0000 \n",
      "\n",
      " *  Resolution Range :\n",
      "\n",
      "    0.00270    0.20661     (     19.229 -      2.200 A )\n",
      "\n",
      " * Sort Order :\n",
      "\n",
      "      1     2     3     0     0\n",
      "\n",
      " * Space group = 'C 1 2 1' (number     5)\n",
      "\n",
      " Map cell is set to:   79.72   90.46   69.40   90.00   98.19   90.00\n",
      "  FREE column NOT assigned\n",
      "\n",
      "\n",
      " Coefficients used for Fourier calculation:-\n",
      " *******************************************\n",
      "\n",
      "\n",
      " Fourier synthesis: ( k1 * F1) exp( i PHI)\n",
      "\n",
      "    F1   =  DELFWT\n",
      "    PHI  =  PHDELWT                       \n",
      "\n",
      "\n",
      "\n",
      " Resolution limits:     19.23     2.20\n",
      " Scale & B for F1 :    1.00000  0.00000\n",
      "\n",
      " *  F used = Scale * exp(- B * (sin theta/lambda)**2);  ** Scale and B applied to F BEFORE squaring for Patterson  **\n",
      "\n",
      "\n",
      " *** No reflections excluded ***\n",
      "\n",
      "\n",
      "\n",
      "\n",
      " Number of symmetry operations = 2 Space-group for FFT =   1  True space-group =   5 List terms gt     0\n",
      "\n",
      " Axis order in map: fast=Z,  medium= X,  slow(section)= Y\n",
      "\n",
      "\n",
      " ** The limits of the map have been set to those of\n",
      " the unit cell:\n",
      "\n",
      "    Min X   Max X   Min Y   Max Y   Min Z   Max Z\n",
      "    0.000   1.000   0.000   1.000   0.000   1.000\n",
      "\n",
      " (expressed in fractional coordinates and with x,y,z\n",
      "  referring to the unpermutated axes.)\n",
      "\n",
      "\n",
      " Permutation of axes: (program=input)  x= X,  y= Y,  z= Z\n",
      "\n",
      " Before permutation :\n",
      "           Maximum indices hkl ...................   36   41   32\n",
      "           Sampling intervals on xyz .............  144  168  130\n",
      "           Map limits in grid points on xyz ......    0  143       0  167       0  129\n",
      "\n",
      " Binary map will be written to stream   1\n",
      "\n",
      " Data is assumed to be unsorted\n",
      " After permutation :\n",
      "           Maximum indices hkl ...................   36   41   32\n",
      "           Sampling intervals on xyz .............  144  168  130\n",
      "           Map limits in grid points on xyz ......    0  143       0  167       0  129\n",
      "\n",
      "\n",
      "\n",
      "\n",
      "\n",
      "\n",
      "                              Fourier synthesis for space-group P1\n",
      "\n",
      "  Buffer size =     3193344\n",
      "\n",
      "\n",
      "\n",
      "  ****  Largest F Value *** Reflection  -3  3  2        1030.74\n",
      "\n",
      "                                         Mean F          123.53\n",
      "\n",
      "      42052 Structure factors used out of 22104 on the input file\n",
      "\n",
      " Logical Name: MAPOUT   Filename: /home/mkadukova/data/refinement_playground_clean/10gs/10gs.fixed.fft.wfofc.map \n",
      "\n",
      "File name for output map file on unit   1 : /home/mkadukova/data/refinement_playground_clean/10gs/10gs.fixed.fft.wfofc.map\n",
      "logical name MAPOUT\n",
      "\n",
      " F000 =    0.000E+00          V =    4.954E+05\n",
      "\n",
      " Section axis is Y\n",
      "\n",
      " Binary output has Z running fastest, X next\n",
      "  Section Y =   0 minimum rho =        -0.4529 at X =  73 Z =  62 maximum rho =         0.5241 at X = 127 Z =  58\n",
      "  Section Y =   1 minimum rho =        -0.4496 at X =  72 Z =  62 maximum rho =         0.4673 at X = 141 Z =  30\n",
      "  Section Y =   2 minimum rho =        -0.4055 at X =  73 Z =  69 maximum rho =         0.4588 at X =  67 Z =  26\n",
      "  Section Y =   3 minimum rho =        -0.4577 at X =  70 Z =  60 maximum rho =         0.5642 at X =  67 Z =  26\n",
      "  Section Y =   4 minimum rho =        -0.4622 at X =  70 Z =  60 maximum rho =         0.5953 at X =  69 Z =  70\n",
      "  Section Y =   5 minimum rho =        -0.3721 at X =  74 Z =  71 maximum rho =         0.6341 at X =  68 Z =  70\n",
      "  Section Y =   6 minimum rho =        -0.3196 at X =  15 Z =  77 maximum rho =         0.6257 at X =  68 Z =  71\n",
      "  Section Y =   7 minimum rho =        -0.3077 at X = 108 Z =  30 maximum rho =         0.5583 at X =  68 Z =  71\n",
      "  Section Y =   8 minimum rho =        -0.3743 at X = 115 Z =   2 maximum rho =         0.4585 at X =  68 Z =  71\n",
      "  Section Y =   9 minimum rho =        -0.3609 at X = 115 Z =   2 maximum rho =         0.3493 at X =  69 Z =  71\n",
      "  Section Y =  10 minimum rho =        -0.3842 at X =  91 Z = 115 maximum rho =         0.4036 at X =   6 Z =  36\n",
      "  Section Y =  11 minimum rho =        -0.3818 at X =  53 Z =  15 maximum rho =         0.4616 at X =   6 Z =  36\n",
      "  Section Y =  12 minimum rho =        -0.3238 at X =  15 Z =  91 maximum rho =         0.3741 at X =   6 Z =  36\n",
      "  Section Y =  13 minimum rho =        -0.3142 at X =  42 Z = 123 maximum rho =         0.4174 at X =  67 Z =  80\n",
      "  Section Y =  14 minimum rho =        -0.3250 at X =  12 Z =  39 maximum rho =         0.4284 at X =  67 Z =  80\n",
      "  Section Y =  15 minimum rho =        -0.3665 at X = 107 Z =  90 maximum rho =         0.3345 at X =  23 Z =  31\n",
      "  Section Y =  16 minimum rho =        -0.3242 at X =  37 Z =  40 maximum rho =         0.4147 at X = 121 Z =  99\n",
      "  Section Y =  17 minimum rho =        -0.3557 at X = 140 Z = 109 maximum rho =         0.3845 at X =  55 Z =  73\n",
      "  Section Y =  18 minimum rho =        -0.4249 at X =   4 Z =  21 maximum rho =         0.4376 at X =  56 Z =  73\n",
      "  Section Y =  19 minimum rho =        -0.3790 at X =   4 Z =  21 maximum rho =         0.3411 at X =  12 Z =  52\n",
      "  Section Y =  20 minimum rho =        -0.3381 at X =  68 Z = 129 maximum rho =         0.3813 at X =  34 Z =  84\n",
      "  Section Y =  21 minimum rho =        -0.4045 at X =  68 Z = 129 maximum rho =         0.3426 at X =  74 Z =  77\n",
      "  Section Y =  22 minimum rho =        -0.4099 at X =  68 Z = 129 maximum rho =         0.3461 at X =  70 Z =  53\n",
      "  Section Y =  23 minimum rho =        -0.3516 at X =  68 Z =   0 maximum rho =         0.3492 at X =  64 Z =  37\n",
      "  Section Y =  24 minimum rho =        -0.3485 at X =  67 Z =  69 maximum rho =         0.3983 at X =  69 Z =  65\n",
      "  Section Y =  25 minimum rho =        -0.3114 at X =  67 Z =  69 maximum rho =         0.4291 at X =  69 Z =  65\n",
      "  Section Y =  26 minimum rho =        -0.3331 at X = 114 Z = 104 maximum rho =         0.4107 at X = 110 Z = 106\n",
      "  Section Y =  27 minimum rho =        -0.3066 at X =  56 Z =  22 maximum rho =         0.3870 at X =  66 Z =  81\n",
      "  Section Y =  28 minimum rho =        -0.3493 at X =   7 Z =  42 maximum rho =         0.3141 at X =  83 Z =  21\n",
      "  Section Y =  29 minimum rho =        -0.3187 at X =  37 Z =  23 maximum rho =         0.3927 at X =  91 Z =  64\n",
      "  Section Y =  30 minimum rho =        -0.3399 at X =  65 Z =  64 maximum rho =         0.4418 at X =  52 Z =  65\n",
      "  Section Y =  31 minimum rho =        -0.3628 at X =  79 Z =  65 maximum rho =         0.3202 at X =  51 Z =  65\n",
      "  Section Y =  32 minimum rho =        -0.3485 at X =  84 Z =  73 maximum rho =         0.3207 at X = 124 Z = 110\n",
      "  Section Y =  33 minimum rho =        -0.3792 at X =   7 Z =  21 maximum rho =         0.2826 at X =  74 Z =  86\n",
      "  Section Y =  34 minimum rho =        -0.3377 at X = 137 Z = 109 maximum rho =         0.4520 at X = 105 Z = 105\n",
      "  Section Y =  35 minimum rho =        -0.3106 at X =  45 Z =  86 maximum rho =         0.6399 at X =  39 Z =  25\n",
      "  Section Y =  36 minimum rho =        -0.3207 at X =  20 Z =  16 maximum rho =         0.6390 at X = 105 Z = 105\n",
      "  Section Y =  37 minimum rho =        -0.3400 at X =  33 Z =  67 maximum rho =         0.4006 at X = 105 Z = 105\n",
      "  Section Y =  38 minimum rho =        -0.3249 at X =  92 Z =  74 maximum rho =         0.3939 at X =  45 Z = 120\n",
      "  Section Y =  39 minimum rho =        -0.3403 at X =  73 Z =  14 maximum rho =         0.4539 at X =  68 Z =   4\n",
      "  Section Y =  40 minimum rho =        -0.3179 at X =  71 Z = 116 maximum rho =         0.5263 at X =  68 Z =   4\n",
      "  Section Y =  41 minimum rho =        -0.3128 at X =  72 Z =  14 maximum rho =         0.5178 at X =  68 Z =   5\n",
      "  Section Y =  42 minimum rho =        -0.3461 at X =  22 Z = 112 maximum rho =         0.4536 at X =  68 Z =   5\n",
      "  Section Y =  43 minimum rho =        -0.3853 at X =  22 Z = 112 maximum rho =         0.3921 at X =   3 Z =  93\n",
      "  Section Y =  44 minimum rho =        -0.4080 at X =  21 Z = 113 maximum rho =         0.3924 at X =   3 Z =  93\n",
      "  Section Y =  45 minimum rho =        -0.4230 at X =  72 Z =   6 maximum rho =         0.3863 at X = 114 Z =  66\n",
      "  Section Y =  46 minimum rho =        -0.3640 at X =  72 Z = 123 maximum rho =         0.4389 at X =  70 Z =  57\n",
      "  Section Y =  47 minimum rho =        -0.3888 at X =   1 Z =  82 maximum rho =         0.4108 at X =  63 Z =   4\n",
      "  Section Y =  48 minimum rho =        -0.3613 at X =  65 Z =  80 maximum rho =         0.4881 at X =  65 Z =   3\n",
      "  Section Y =  49 minimum rho =        -0.2819 at X = 135 Z =   3 maximum rho =         0.4242 at X =  80 Z = 127\n",
      "  Section Y =  50 minimum rho =        -0.3256 at X =   5 Z =  93 maximum rho =         0.4223 at X =   4 Z =  85\n",
      "  Section Y =  51 minimum rho =        -0.3090 at X =   5 Z =  93 maximum rho =         0.3731 at X =   6 Z = 109\n",
      "  Section Y =  52 minimum rho =        -0.3278 at X =  94 Z =  77 maximum rho =         0.3733 at X =  75 Z =  70\n",
      "  Section Y =  53 minimum rho =        -0.3085 at X =  20 Z = 111 maximum rho =         0.3900 at X =  75 Z =  70\n",
      "  Section Y =  54 minimum rho =        -0.3564 at X =  49 Z =   0 maximum rho =         0.3723 at X =  75 Z =  71\n",
      "  Section Y =  55 minimum rho =        -0.3385 at X =  49 Z =   0 maximum rho =         0.3579 at X = 122 Z =   2\n",
      "  Section Y =  56 minimum rho =        -0.3537 at X =  70 Z =  53 maximum rho =         0.3932 at X =  38 Z =  73\n",
      "  Section Y =  57 minimum rho =        -0.3362 at X = 140 Z = 106 maximum rho =         0.4124 at X =  27 Z =  19\n",
      "  Section Y =  58 minimum rho =        -0.3413 at X =   5 Z =  24 maximum rho =         0.4414 at X =  16 Z = 114\n",
      "  Section Y =  59 minimum rho =        -0.3337 at X =  21 Z =   2 maximum rho =         0.4529 at X =  16 Z = 115\n",
      "  Section Y =  60 minimum rho =        -0.3486 at X =  38 Z =   1 maximum rho =         0.3479 at X =  35 Z =   7\n",
      "  Section Y =  61 minimum rho =        -0.3010 at X =  89 Z = 118 maximum rho =         0.4107 at X =  51 Z =  54\n",
      "  Section Y =  62 minimum rho =        -0.3116 at X =  97 Z =  37 maximum rho =         0.4224 at X =  56 Z =  49\n",
      "  Section Y =  63 minimum rho =        -0.3126 at X = 121 Z =  15 maximum rho =         0.4856 at X =  56 Z =  49\n",
      "  Section Y =  64 minimum rho =        -0.3265 at X =  28 Z = 126 maximum rho =         0.4026 at X =  56 Z =  50\n",
      "  Section Y =  65 minimum rho =        -0.3696 at X =  28 Z = 126 maximum rho =         0.4188 at X =  25 Z =  20\n",
      "  Section Y =  66 minimum rho =        -0.3602 at X = 104 Z =  40 maximum rho =         0.4116 at X =  24 Z =  46\n",
      "  Section Y =  67 minimum rho =        -0.3558 at X =  48 Z = 114 maximum rho =         0.3894 at X =  21 Z =  40\n",
      "  Section Y =  68 minimum rho =        -0.3295 at X =  93 Z =  72 maximum rho =         0.3352 at X =  27 Z =  55\n",
      "  Section Y =  69 minimum rho =        -0.3245 at X =  21 Z =   0 maximum rho =         0.3460 at X =   1 Z =  37\n",
      "  Section Y =  70 minimum rho =        -0.3343 at X =  21 Z =   0 maximum rho =         0.3540 at X =   1 Z =  37\n",
      "  Section Y =  71 minimum rho =        -0.3192 at X =  41 Z =  31 maximum rho =         0.3186 at X = 110 Z = 109\n",
      "  Section Y =  72 minimum rho =        -0.3189 at X =  34 Z = 129 maximum rho =         0.3687 at X =  36 Z =  61\n",
      "  Section Y =  73 minimum rho =        -0.3543 at X =  60 Z =  44 maximum rho =         0.3486 at X =  13 Z =  63\n",
      "  Section Y =  74 minimum rho =        -0.3779 at X =  85 Z =  86 maximum rho =         0.3795 at X =  65 Z = 122\n",
      "  Section Y =  75 minimum rho =        -0.2970 at X =  90 Z = 114 maximum rho =         0.3230 at X =  61 Z =  91\n",
      "  Section Y =  76 minimum rho =        -0.3441 at X =  16 Z = 112 maximum rho =         0.3344 at X =  98 Z = 117\n",
      "  Section Y =  77 minimum rho =        -0.3729 at X =   9 Z =  74 maximum rho =         0.3734 at X =   6 Z =  60\n",
      "  Section Y =  78 minimum rho =        -0.3644 at X =   9 Z =  73 maximum rho =         0.4350 at X =  23 Z =  50\n",
      "  Section Y =  79 minimum rho =        -0.3525 at X =   9 Z =  61 maximum rho =         0.3727 at X =  51 Z =  29\n",
      "  Section Y =  80 minimum rho =        -0.3619 at X =  92 Z =  83 maximum rho =         0.4186 at X = 141 Z = 101\n",
      "  Section Y =  81 minimum rho =        -0.3854 at X =  42 Z =   0 maximum rho =         0.4984 at X =   8 Z =  56\n",
      "  Section Y =  82 minimum rho =        -0.3340 at X =  68 Z =  18 maximum rho =         0.6108 at X =   5 Z =  52\n",
      "  Section Y =  83 minimum rho =        -0.3461 at X =   1 Z =  63 maximum rho =         0.6184 at X =   5 Z =  52\n",
      "  Section Y =  84 minimum rho =        -0.4529 at X =   1 Z =  62 maximum rho =         0.5241 at X =  55 Z =  58\n",
      "  Section Y =  85 minimum rho =        -0.4496 at X =   0 Z =  62 maximum rho =         0.4673 at X =  69 Z =  30\n",
      "  Section Y =  86 minimum rho =        -0.4055 at X =   1 Z =  69 maximum rho =         0.4588 at X = 139 Z =  26\n",
      "  Section Y =  87 minimum rho =        -0.4577 at X =   2 Z =  70 maximum rho =         0.5642 at X =   5 Z = 104\n",
      "  Section Y =  88 minimum rho =        -0.4622 at X =   2 Z =  70 maximum rho =         0.5953 at X = 141 Z =  70\n",
      "  Section Y =  89 minimum rho =        -0.3721 at X =   2 Z =  71 maximum rho =         0.6341 at X =   4 Z =  60\n",
      "  Section Y =  90 minimum rho =        -0.3196 at X =  87 Z =  77 maximum rho =         0.6257 at X =   4 Z =  59\n",
      "  Section Y =  91 minimum rho =        -0.3077 at X = 108 Z = 100 maximum rho =         0.5583 at X = 140 Z =  71\n",
      "  Section Y =  92 minimum rho =        -0.3743 at X =  43 Z =   2 maximum rho =         0.4585 at X =   4 Z =  59\n",
      "  Section Y =  93 minimum rho =        -0.3609 at X =  43 Z =   2 maximum rho =         0.3493 at X = 141 Z =  71\n",
      "  Section Y =  94 minimum rho =        -0.3842 at X =  19 Z = 115 maximum rho =         0.4036 at X =  66 Z =  94\n",
      "  Section Y =  95 minimum rho =        -0.3818 at X =  19 Z = 115 maximum rho =         0.4616 at X =  78 Z =  36\n",
      "  Section Y =  96 minimum rho =        -0.3238 at X =  57 Z =  39 maximum rho =         0.3741 at X =  78 Z =  36\n",
      "  Section Y =  97 minimum rho =        -0.3142 at X = 114 Z = 123 maximum rho =         0.4174 at X = 139 Z =  80\n",
      "  Section Y =  98 minimum rho =        -0.3250 at X =  60 Z =  91 maximum rho =         0.4284 at X = 139 Z =  80\n",
      "  Section Y =  99 minimum rho =        -0.3665 at X =  35 Z =  90 maximum rho =         0.3345 at X =  49 Z =  99\n",
      "  Section Y = 100 minimum rho =        -0.3242 at X =  35 Z =  90 maximum rho =         0.4147 at X =  49 Z =  99\n",
      "  Section Y = 101 minimum rho =        -0.3557 at X =  68 Z = 109 maximum rho =         0.3845 at X = 127 Z =  73\n",
      "  Section Y = 102 minimum rho =        -0.4249 at X =  68 Z = 109 maximum rho =         0.4376 at X = 128 Z =  73\n",
      "  Section Y = 103 minimum rho =        -0.3790 at X =  68 Z = 109 maximum rho =         0.3411 at X =  84 Z =  52\n",
      "  Section Y = 104 minimum rho =        -0.3381 at X = 140 Z = 129 maximum rho =         0.3813 at X =  38 Z =  46\n",
      "  Section Y = 105 minimum rho =        -0.4045 at X = 140 Z = 129 maximum rho =         0.3426 at X =   2 Z =  77\n",
      "  Section Y = 106 minimum rho =        -0.4099 at X =   4 Z =   1 maximum rho =         0.3461 at X =   2 Z =  77\n",
      "  Section Y = 107 minimum rho =        -0.3516 at X =   4 Z =   0 maximum rho =         0.3492 at X =   8 Z =  93\n",
      "  Section Y = 108 minimum rho =        -0.3485 at X = 139 Z =  69 maximum rho =         0.3983 at X =   3 Z =  65\n",
      "  Section Y = 109 minimum rho =        -0.3114 at X = 139 Z =  69 maximum rho =         0.4291 at X = 141 Z =  65\n",
      "  Section Y = 110 minimum rho =        -0.3331 at X =  42 Z = 104 maximum rho =         0.4107 at X =  38 Z = 106\n",
      "  Section Y = 111 minimum rho =        -0.3066 at X = 128 Z =  22 maximum rho =         0.3870 at X = 138 Z =  81\n",
      "  Section Y = 112 minimum rho =        -0.3493 at X =  79 Z =  42 maximum rho =         0.3141 at X = 133 Z = 109\n",
      "  Section Y = 113 minimum rho =        -0.3187 at X =  35 Z = 107 maximum rho =         0.3927 at X =  19 Z =  64\n",
      "  Section Y = 114 minimum rho =        -0.3399 at X =   7 Z =  66 maximum rho =         0.4418 at X =  20 Z =  65\n",
      "  Section Y = 115 minimum rho =        -0.3628 at X = 137 Z =  65 maximum rho =         0.3202 at X =  21 Z =  65\n",
      "  Section Y = 116 minimum rho =        -0.3485 at X =  12 Z =  73 maximum rho =         0.3207 at X =  92 Z =  20\n",
      "  Section Y = 117 minimum rho =        -0.3792 at X =  65 Z = 109 maximum rho =         0.2826 at X =   2 Z =  86\n",
      "  Section Y = 118 minimum rho =        -0.3377 at X =  65 Z = 109 maximum rho =         0.4520 at X =  33 Z = 105\n",
      "  Section Y = 119 minimum rho =        -0.3106 at X =  27 Z =  44 maximum rho =         0.6399 at X = 111 Z =  25\n",
      "  Section Y = 120 minimum rho =        -0.3207 at X =  92 Z =  16 maximum rho =         0.6390 at X =  33 Z = 105\n",
      "  Section Y = 121 minimum rho =        -0.3400 at X = 105 Z =  67 maximum rho =         0.4006 at X =  33 Z = 105\n",
      "  Section Y = 122 minimum rho =        -0.3249 at X =  20 Z =  74 maximum rho =         0.3939 at X =  27 Z =  10\n",
      "  Section Y = 123 minimum rho =        -0.3403 at X =   1 Z =  14 maximum rho =         0.4539 at X =   4 Z = 126\n",
      "  Section Y = 124 minimum rho =        -0.3179 at X =   1 Z =  14 maximum rho =         0.5263 at X = 140 Z =   4\n",
      "  Section Y = 125 minimum rho =        -0.3128 at X =   0 Z =  14 maximum rho =         0.5178 at X =   4 Z = 125\n",
      "  Section Y = 126 minimum rho =        -0.3461 at X =  50 Z =  18 maximum rho =         0.4536 at X =   4 Z = 125\n",
      "  Section Y = 127 minimum rho =        -0.3853 at X =  50 Z =  18 maximum rho =         0.3921 at X =  75 Z =  93\n",
      "  Section Y = 128 minimum rho =        -0.4080 at X =  93 Z = 113 maximum rho =         0.3924 at X =  75 Z =  93\n",
      "  Section Y = 129 minimum rho =        -0.4230 at X =   0 Z =   6 maximum rho =         0.3863 at X =  42 Z =  66\n",
      "  Section Y = 130 minimum rho =        -0.3640 at X =   0 Z = 123 maximum rho =         0.4389 at X =   2 Z =  73\n",
      "  Section Y = 131 minimum rho =        -0.3888 at X =  71 Z =  48 maximum rho =         0.4108 at X =   9 Z = 126\n",
      "  Section Y = 132 minimum rho =        -0.3613 at X = 137 Z =  80 maximum rho =         0.4881 at X =   7 Z = 127\n",
      "  Section Y = 133 minimum rho =        -0.2819 at X =  63 Z =   3 maximum rho =         0.4242 at X =   8 Z = 127\n",
      "  Section Y = 134 minimum rho =        -0.3256 at X =  77 Z =  93 maximum rho =         0.4223 at X =  68 Z =  45\n",
      "  Section Y = 135 minimum rho =        -0.3090 at X =  67 Z =  37 maximum rho =         0.3731 at X =  78 Z = 109\n",
      "  Section Y = 136 minimum rho =        -0.3278 at X =  22 Z =  77 maximum rho =         0.3733 at X =   3 Z =  70\n",
      "  Section Y = 137 minimum rho =        -0.3085 at X =  52 Z =  19 maximum rho =         0.3900 at X =   3 Z =  70\n",
      "  Section Y = 138 minimum rho =        -0.3564 at X =  23 Z =   0 maximum rho =         0.3723 at X =   3 Z =  71\n",
      "  Section Y = 139 minimum rho =        -0.3385 at X = 121 Z =   0 maximum rho =         0.3579 at X =  50 Z =   2\n",
      "  Section Y = 140 minimum rho =        -0.3537 at X =   2 Z =  77 maximum rho =         0.3932 at X = 110 Z =  73\n",
      "  Section Y = 141 minimum rho =        -0.3362 at X =  68 Z = 106 maximum rho =         0.4124 at X =  99 Z =  19\n",
      "  Section Y = 142 minimum rho =        -0.3413 at X =  67 Z = 106 maximum rho =         0.4414 at X =  56 Z =  16\n"
     ]
    },
    {
     "name": "stderr",
     "output_type": "stream",
     "text": [
      "sh: line 4: warning: here-document at line 0 delimited by end-of-file (wanted `eof-1')\n"
     ]
    },
    {
     "name": "stdout",
     "output_type": "stream",
     "text": [
      "  Section Y = 143 minimum rho =        -0.3337 at X =  93 Z =   2 maximum rho =         0.4529 at X =  88 Z = 115\n",
      "  Section Y = 144 minimum rho =        -0.3486 at X = 110 Z =   1 maximum rho =         0.3479 at X = 107 Z =   7\n",
      "  Section Y = 145 minimum rho =        -0.3010 at X =  17 Z = 118 maximum rho =         0.4107 at X =  21 Z =  76\n",
      "  Section Y = 146 minimum rho =        -0.3116 at X =  25 Z =  37 maximum rho =         0.4224 at X = 128 Z =  49\n",
      "  Section Y = 147 minimum rho =        -0.3126 at X =  49 Z =  15 maximum rho =         0.4856 at X = 128 Z =  49\n",
      "  Section Y = 148 minimum rho =        -0.3265 at X =  44 Z =   4 maximum rho =         0.4026 at X =  16 Z =  80\n",
      "  Section Y = 149 minimum rho =        -0.3696 at X =  44 Z =   4 maximum rho =         0.4188 at X =  47 Z = 110\n",
      "  Section Y = 150 minimum rho =        -0.3602 at X =  32 Z =  40 maximum rho =         0.4116 at X =  48 Z =  84\n",
      "  Section Y = 151 minimum rho =        -0.3558 at X =  24 Z =  16 maximum rho =         0.3894 at X =  51 Z =  90\n",
      "  Section Y = 152 minimum rho =        -0.3295 at X =  21 Z =  72 maximum rho =         0.3352 at X =  99 Z =  55\n",
      "  Section Y = 153 minimum rho =        -0.3245 at X =  51 Z =   0 maximum rho =         0.3460 at X =  71 Z =  93\n",
      "  Section Y = 154 minimum rho =        -0.3343 at X =  51 Z =   0 maximum rho =         0.3540 at X =  73 Z =  37\n",
      "  Section Y = 155 minimum rho =        -0.3192 at X = 113 Z =  31 maximum rho =         0.3186 at X =  38 Z = 109\n",
      "  Section Y = 156 minimum rho =        -0.3189 at X =  38 Z =   1 maximum rho =         0.3687 at X =  36 Z =  69\n",
      "  Section Y = 157 minimum rho =        -0.3543 at X =  12 Z =  86 maximum rho =         0.3486 at X =  85 Z =  63\n",
      "  Section Y = 158 minimum rho =        -0.3779 at X =  13 Z =  86 maximum rho =         0.3795 at X =   7 Z =   8\n",
      "  Section Y = 159 minimum rho =        -0.2970 at X =  18 Z = 114 maximum rho =         0.3230 at X =  11 Z =  39\n",
      "  Section Y = 160 minimum rho =        -0.3441 at X =  56 Z =  18 maximum rho =         0.3344 at X =  26 Z = 117\n",
      "  Section Y = 161 minimum rho =        -0.3729 at X =  81 Z =  74 maximum rho =         0.3734 at X =  78 Z =  60\n",
      "  Section Y = 162 minimum rho =        -0.3644 at X =  81 Z =  73 maximum rho =         0.4350 at X =  95 Z =  50\n",
      "  Section Y = 163 minimum rho =        -0.3525 at X =  63 Z =  69 maximum rho =         0.3727 at X =  21 Z = 101\n",
      "  Section Y = 164 minimum rho =        -0.3619 at X =  20 Z =  83 maximum rho =         0.4186 at X =  69 Z = 101\n",
      "  Section Y = 165 minimum rho =        -0.3854 at X =  30 Z =   0 maximum rho =         0.4984 at X =  64 Z =  74\n",
      "  Section Y = 166 minimum rho =        -0.3340 at X = 140 Z =  18 maximum rho =         0.6108 at X =  77 Z =  52\n",
      "  Section Y = 167 minimum rho =        -0.3461 at X =  73 Z =  63 maximum rho =         0.6184 at X =  67 Z =  78\n",
      "\n",
      "\n",
      " Overall maximum rho =          0.6399 on section Y =  35 at X =  39 Z =  25\n",
      "\n",
      "\n",
      " Overall minimum rho =         -0.4622 on section Y =   4 at X =  70 Z =  60\n",
      "\n",
      "  Average density on this map is         -0.00000000\n",
      "\n",
      " Logical Name: MAPOUT   Filename: /home/mkadukova/data/refinement_playground_clean/10gs/10gs.fixed.fft.wfofc.map \n",
      "\n",
      "File name for input map file on unit   1 : /home/mkadukova/data/refinement_playground_clean/10gs/10gs.fixed.fft.wfofc.map\n",
      "file size 12581184 ; logical name MAPOUT\n",
      "\n",
      "\n",
      "\n",
      "           Number of columns, rows, sections ...............  130  144  168\n",
      "           Map mode ........................................    2\n",
      "           Start and stop points on columns, rows, sections     0  129    0  143    0  167\n",
      "           Grid sampling on x, y, z ........................  144  168  130\n",
      "           Cell dimensions .................................   79.7230    90.4600    69.4040    90.0000    98.1900    90.0000\n",
      "           Fast, medium, slow axes .........................    Z    X    Y\n",
      "           Minimum density .................................    -0.46216\n",
      "           Maximum density .................................     0.63993\n",
      "           Mean density ....................................     0.00000\n",
      "           Rms deviation from mean density .................     0.09339\n",
      "           Space-group .....................................    5\n",
      "           Number of titles ................................    1\n",
      "\n",
      "\n",
      "     Labels:                            \n",
      "   Map from fft\n",
      "\n",
      "\n",
      "<B><FONT COLOR=\"#FF0000\"><!--SUMMARY_BEGIN-->\n",
      " FFTBIG:  Normal termination\n",
      "Times: User:       0.2s System:    0.0s Elapsed:     0:01  \n",
      "</pre>\n",
      "</html>\n",
      "<!--SUMMARY_END--></FONT></B>\n",
      "130 144 168\n",
      "[1, 2, 0]\n"
     ]
    }
   ],
   "source": [
    "run_fft_simple(patt_com.format('mtz'),\n",
    "               patt_com.format('fft.wfofc.map'),\n",
    "               'DELFWT',\n",
    "               'PHDELWT'\n",
    "               )\n",
    "run_fft_simple(patt_com.format('fixed.mtz'),\n",
    "               patt_com.format('fixed.fft.wfofc.map'),\n",
    "               'DELFWT',\n",
    "               'PHDELWT'\n",
    "               )\n",
    "\n",
    "# get the grid size to use it with other map generating scripts\n",
    "g = gemmi.read_ccp4_map(patt_com.format('fft.wfofc.map')).grid\n",
    "print(g.nu, g.nv, g.nw)\n",
    "print(gemmi.read_ccp4_map(patt_com.format('fft.wfofc.map')).axis_positions())"
   ]
  },
  {
   "cell_type": "code",
   "execution_count": 14,
   "id": "3cbf6760",
   "metadata": {},
   "outputs": [
    {
     "name": "stdout",
     "output_type": "stream",
     "text": [
      "No model input - will output map(s) in unit cell.\n",
      "Processing map: DELFWT,PHDELWT\n",
      "  applying sigma-scaling\n",
      "  wrote /tmp_mnt/filer1/unix/mkadukova/data/refinement_playground_clean/10gs/10gs.cctbx_mFo-DFc.ccp4\n",
      "No model input - will output map(s) in unit cell.\n",
      "Processing map: DELFWT,PHDELWT\n",
      "  applying sigma-scaling\n",
      "  wrote /tmp_mnt/filer1/unix/mkadukova/data/refinement_playground_clean/10gs/10gs.fixed.cctbx_mFo-DFc.ccp4\n"
     ]
    }
   ],
   "source": [
    "run_mtz2map(patt_com.format('mtz'),\n",
    "            pdbcode + '/' + pdbcode,\n",
    "           'DELFWT', 'PHDELWT',\n",
    "            exact_size=exact_size_)\n",
    "run_mtz2map(patt_com.format('fixed.mtz'),\n",
    "            pdbcode + '/' + pdbcode + '.fixed',\n",
    "           'DELFWT', 'PHDELWT',\n",
    "            exact_size=exact_size_)"
   ]
  },
  {
   "cell_type": "code",
   "execution_count": 17,
   "id": "4c13a5b1",
   "metadata": {},
   "outputs": [],
   "source": [
    "check_fixed = True\n",
    "ks = [\n",
    "      'gemmi',\n",
    "      'cctbx',\n",
    "      'gemmitool',\n",
    "      'fft'\n",
    "      ]\n",
    "    \n",
    "map_path_tails = {\n",
    "        'gemmi': 'wfofc.ccp4',\n",
    "        'cctbx': 'cctbx_mFo-DFc.ccp4',\n",
    "        'gemmitool': 'gemmitool.wfofc.map',\n",
    "        'fft': 'fft.wfofc.map',\n",
    "       }\n",
    "    \n",
    "if check_fixed:\n",
    "    for k in ks:\n",
    "        map_path_tails[k + '.fixed'] = 'fixed.' + map_path_tails[k]\n",
    "    ks = ks + [k + '.fixed' for k in ks]\n",
    "\n",
    "maps, dims, grid_data = {}, {}, {}\n",
    "\n",
    "for k_ in ks:\n",
    "    maps[k_] = gemmi.read_ccp4_map(patt_com.format(map_path_tails[k_]))\n",
    "    dims[k_] = maps[k_].grid.nu, maps[k_].grid.nv, maps[k_].grid.nw\n",
    "    grid_data[k_] = np.array(maps[k_].grid)\n",
    "    grid_data[k_] = grid_data[k_].transpose(maps[k_].axis_positions())\n",
    "    dims[k_] = grid_data[k_].shape"
   ]
  },
  {
   "cell_type": "markdown",
   "id": "355231fc",
   "metadata": {},
   "source": [
    "Cctbx std is always normalized. But gemmi's and fft's isn't.\\\n",
    "Here we can see that gemmi's and fft's std is the same for the initial file, and are not the same for the mtzfixed file."
   ]
  },
  {
   "cell_type": "code",
   "execution_count": 18,
   "id": "3e74ab6a",
   "metadata": {},
   "outputs": [
    {
     "name": "stdout",
     "output_type": "stream",
     "text": [
      "gemmi (144, 168, 130) (144, 168, 130) 0.09444427490234375\n",
      "cctbx (144, 168, 130) (144, 168, 130) 1.0000001192092896\n",
      "gemmitool (144, 168, 130) (144, 168, 130) 0.09444427490234375\n",
      "fft (144, 168, 130) (144, 168, 130) 0.09444427490234375\n",
      "gemmi.fixed (144, 168, 130) (144, 168, 130) 0.06720957159996033\n",
      "cctbx.fixed (144, 168, 130) (144, 168, 130) 0.9999998807907104\n",
      "gemmitool.fixed (144, 168, 130) (144, 168, 130) 0.06720957159996033\n",
      "fft.fixed (144, 168, 130) (144, 168, 130) 0.09339244663715363\n"
     ]
    }
   ],
   "source": [
    "for k in ks:\n",
    "    print(\"{0} {1} {2} {3}\".format(k, dims[k], \n",
    "                                  grid_data[k].shape, \n",
    "                                  np.std(grid_data[k])),\n",
    "         )"
   ]
  },
  {
   "cell_type": "markdown",
   "id": "fc49d4c9",
   "metadata": {},
   "source": [
    "Correlation coefficients are all the same for the initial mtz file:"
   ]
  },
  {
   "cell_type": "code",
   "execution_count": 19,
   "id": "e90a96d5",
   "metadata": {},
   "outputs": [
    {
     "name": "stdout",
     "output_type": "stream",
     "text": [
      "(0.9999999999962053, 0.0)\n",
      "(0.9999999999999807, 0.0)\n",
      "(0.999999999996205, 0.0)\n"
     ]
    }
   ],
   "source": [
    "print(pearsonr(grid_data['gemmi'].flatten(), grid_data['fft'].flatten()))\n",
    "print(pearsonr(grid_data['gemmitool'].flatten(), grid_data['cctbx'].flatten()))\n",
    "print(pearsonr(grid_data['fft'].flatten(), grid_data['cctbx'].flatten()))\n"
   ]
  },
  {
   "cell_type": "markdown",
   "id": "1ba344f9",
   "metadata": {},
   "source": [
    "But not for gemmi-converted map created from the mtzfixed mtz file!"
   ]
  },
  {
   "cell_type": "code",
   "execution_count": 20,
   "id": "d5e4c7b7",
   "metadata": {},
   "outputs": [
    {
     "name": "stdout",
     "output_type": "stream",
     "text": [
      "(0.7196467646221824, 0.0)\n",
      "(0.7196467646238007, 0.0)\n",
      "(0.999999999996193, 0.0)\n",
      "(0.9963295095294274, 0.0)\n",
      "(0.7188274337733871, 0.0)\n"
     ]
    }
   ],
   "source": [
    "print(pearsonr(grid_data['gemmi.fixed'].flatten(), grid_data['fft.fixed'].flatten()))\n",
    "print(pearsonr(grid_data['gemmitool.fixed'].flatten(), grid_data['cctbx.fixed'].flatten()))\n",
    "print(pearsonr(grid_data['fft.fixed'].flatten(), grid_data['cctbx.fixed'].flatten()))\n",
    "print(pearsonr(grid_data['cctbx'].flatten(), grid_data['cctbx.fixed'].flatten()))\n",
    "print(pearsonr(grid_data['gemmi'].flatten(), grid_data['gemmi.fixed'].flatten()))\n"
   ]
  },
  {
   "cell_type": "code",
   "execution_count": 21,
   "id": "e364bd26",
   "metadata": {},
   "outputs": [
    {
     "data": {
      "text/plain": [
       "<matplotlib.collections.PathCollection at 0x7fb49e7073a0>"
      ]
     },
     "execution_count": 21,
     "metadata": {},
     "output_type": "execute_result"
    },
    {
     "data": {
      "image/png": "[encoded data removed]",
      "text/plain": [
       "<Figure size 432x288 with 1 Axes>"
      ]
     },
     "metadata": {
      "needs_background": "light"
     },
     "output_type": "display_data"
    }
   ],
   "source": [
    "%matplotlib inline\n",
    "\n",
    "plt.scatter(grid_data['gemmi.fixed'].flatten(), grid_data['fft.fixed'].flatten())\n",
    "plt.scatter(grid_data['gemmi'].flatten(), grid_data['fft'].flatten())"
   ]
  },
  {
   "cell_type": "markdown",
   "id": "2928eb78",
   "metadata": {},
   "source": [
    "Why?"
   ]
  },
  {
   "cell_type": "markdown",
   "id": "63aabddd",
   "metadata": {},
   "source": [
    "Let's check the MTZ files content with mtzdump, cctbx, and gemmi.\\\n",
    "I took the DELFWT,PHDELWT columns"
   ]
  },
  {
   "cell_type": "markdown",
   "id": "b2dfbd6e",
   "metadata": {},
   "source": [
    "1) read the reflection data with gemmi:"
   ]
  },
  {
   "cell_type": "code",
   "execution_count": 22,
   "id": "6183f640",
   "metadata": {},
   "outputs": [
    {
     "name": "stdout",
     "output_type": "stream",
     "text": [
      "[(0, 'H'), (1, 'K'), (2, 'L'), (3, 'FREE'), (4, 'FP'), (5, 'SIGFP'), (6, 'FC'), (7, 'PHIC'), (8, 'FC_ALL'), (9, 'PHIC_ALL'), (10, 'FWT'), (11, 'PHWT'), (12, 'DELFWT'), (13, 'PHDELWT'), (14, 'FOM'), (15, 'FC_ALL_LS'), (16, 'PHIC_ALL_LS')]\n",
      "(22104,) (22104,)\n"
     ]
    }
   ],
   "source": [
    "mtz0 = gemmi.read_mtz_file(patt_com.format('mtz'))\n",
    "mtz1 = gemmi.read_mtz_file(patt_com.format('fixed.mtz'))\n",
    "print([(i, l) for i, l in enumerate(mtz0.column_labels())])\n",
    "hkl1 = np.array(mtz1)[:, :3]\n",
    "d0_gemmi = np.array(mtz0)[:, 12]\n",
    "d1_gemmi = np.array(mtz1)[:, 12]\n",
    "dp0_gemmi = np.array(mtz0)[:, 13]\n",
    "dp1_gemmi = np.array(mtz1)[:, 13]\n",
    "print(d0_gemmi.shape, d1_gemmi.shape)"
   ]
  },
  {
   "cell_type": "markdown",
   "id": "eb986d70",
   "metadata": {},
   "source": [
    "2) read the reflection data with cctbx:"
   ]
  },
  {
   "cell_type": "code",
   "execution_count": 23,
   "id": "ece882ff",
   "metadata": {},
   "outputs": [],
   "source": [
    "dm0 = DataManager()\n",
    "dm1 = DataManager()\n",
    "dm0.process_miller_array_file(patt_com.format('mtz'))\n",
    "dm1.process_miller_array_file(patt_com.format('fixed.mtz'))\n",
    "reflections_reader0 = dm0.get_miller_array(filename=patt_com.format('mtz'))\n",
    "reflections_reader1 = dm1.get_miller_array(filename=patt_com.format('fixed.mtz'))\n",
    "miller_array_dict0 = {ma.info().label_string():ma for ma in reflections_reader0.as_miller_arrays()}\n",
    "miller_array_dict1 = {ma.info().label_string():ma for ma in reflections_reader1.as_miller_arrays()}"
   ]
  },
  {
   "cell_type": "code",
   "execution_count": 24,
   "id": "abde8cf7",
   "metadata": {},
   "outputs": [],
   "source": [
    "d0_cctbx = np.array(miller_array_dict0['DELFWT,PHDELWT'].amplitudes().data())\n",
    "d1_cctbx = np.array(miller_array_dict1['DELFWT,PHDELWT'].amplitudes().data())\n",
    "dp0_cctbx = np.array(miller_array_dict0['DELFWT,PHDELWT'].phases().data())\n",
    "dp1_cctbx = np.array(miller_array_dict1['DELFWT,PHDELWT'].phases().data())"
   ]
  },
  {
   "cell_type": "markdown",
   "id": "4ba674fc",
   "metadata": {},
   "source": [
    "Now, compare what's different.\n",
    "\n",
    "First, cctbx:"
   ]
  },
  {
   "cell_type": "code",
   "execution_count": 25,
   "id": "890c4a92",
   "metadata": {},
   "outputs": [
    {
     "data": {
      "text/plain": [
       "Text(0, 0.5, 'amplitudes in mtzfixed, cctbx')"
      ]
     },
     "execution_count": 25,
     "metadata": {},
     "output_type": "execute_result"
    },
    {
     "data": {
      "image/png": "[encoded data removed]",
      "text/plain": [
       "<Figure size 432x288 with 1 Axes>"
      ]
     },
     "metadata": {
      "needs_background": "light"
     },
     "output_type": "display_data"
    }
   ],
   "source": [
    "plt.scatter(d0_cctbx, d1_cctbx)\n",
    "plt.xlabel('amplitudes in original, cctbx')\n",
    "plt.ylabel('amplitudes in mtzfixed, cctbx')"
   ]
  },
  {
   "cell_type": "code",
   "execution_count": 26,
   "id": "e0e2a094",
   "metadata": {},
   "outputs": [
    {
     "data": {
      "text/plain": [
       "Text(0, 0.5, 'phases in mtzfixed, cctbx')"
      ]
     },
     "execution_count": 26,
     "metadata": {},
     "output_type": "execute_result"
    },
    {
     "data": {
      "image/png": "[encoded data removed]",
      "text/plain": [
       "<Figure size 432x288 with 1 Axes>"
      ]
     },
     "metadata": {
      "needs_background": "light"
     },
     "output_type": "display_data"
    }
   ],
   "source": [
    "plt.scatter(dp0_cctbx, dp1_cctbx)\n",
    "plt.xlabel('phases in original, cctbx')\n",
    "plt.ylabel('phases in mtzfixed, cctbx')"
   ]
  },
  {
   "cell_type": "markdown",
   "id": "4f0833c4",
   "metadata": {},
   "source": [
    "And now, gemmi:"
   ]
  },
  {
   "cell_type": "markdown",
   "id": "43ed40e9",
   "metadata": {},
   "source": [
    "amplitudes:"
   ]
  },
  {
   "cell_type": "code",
   "execution_count": 27,
   "id": "7727872b",
   "metadata": {},
   "outputs": [
    {
     "data": {
      "text/plain": [
       "Text(0, 0.5, 'amplitudes in mtzfixed, gemmi')"
      ]
     },
     "execution_count": 27,
     "metadata": {},
     "output_type": "execute_result"
    },
    {
     "data": {
      "image/png": "[encoded data removed]",
      "text/plain": [
       "<Figure size 432x288 with 1 Axes>"
      ]
     },
     "metadata": {
      "needs_background": "light"
     },
     "output_type": "display_data"
    }
   ],
   "source": [
    "plt.scatter(d0_gemmi, d1_gemmi)\n",
    "plt.xlabel('amplitudes in original, gemmi')\n",
    "plt.ylabel('amplitudes in mtzfixed, gemmi')"
   ]
  },
  {
   "cell_type": "code",
   "execution_count": 28,
   "id": "eef2d32b",
   "metadata": {},
   "outputs": [
    {
     "data": {
      "text/plain": [
       "Text(0, 0.5, 'amplitudes in mtzfixed, gemmi')"
      ]
     },
     "execution_count": 28,
     "metadata": {},
     "output_type": "execute_result"
    },
    {
     "data": {
      "image/png": "[encoded data removed]",
      "text/plain": [
       "<Figure size 432x288 with 1 Axes>"
      ]
     },
     "metadata": {
      "needs_background": "light"
     },
     "output_type": "display_data"
    }
   ],
   "source": [
    "plt.scatter(d1_cctbx, d1_gemmi)\n",
    "plt.xlabel('amplitudes in mtzfixed, cctbx')\n",
    "plt.ylabel('amplitudes in mtzfixed, gemmi')"
   ]
  },
  {
   "cell_type": "markdown",
   "id": "bec02410",
   "metadata": {},
   "source": [
    "What we can actually see here, is that in gemmi there are some negative amplitudes.\\\n",
    "After taking the absolute value we get the 1:1 correspondence."
   ]
  },
  {
   "cell_type": "code",
   "execution_count": 29,
   "id": "736b1dea",
   "metadata": {},
   "outputs": [
    {
     "data": {
      "text/plain": [
       "Text(0, 0.5, 'np.abs(amplitudes in mtzfixed), gemmi')"
      ]
     },
     "execution_count": 29,
     "metadata": {},
     "output_type": "execute_result"
    },
    {
     "data": {
      "image/png": "[encoded data removed]",
      "text/plain": [
       "<Figure size 432x288 with 1 Axes>"
      ]
     },
     "metadata": {
      "needs_background": "light"
     },
     "output_type": "display_data"
    }
   ],
   "source": [
    "plt.scatter(d1_cctbx, np.abs(d1_gemmi))\n",
    "plt.xlabel('amplitudes in mtzfixed, cctbx')\n",
    "plt.ylabel('np.abs(amplitudes in mtzfixed), gemmi')"
   ]
  },
  {
   "cell_type": "markdown",
   "id": "e56e6a04",
   "metadata": {},
   "source": [
    "Now, phases -- the difference is quite substantial even if we forget about the angle conversion."
   ]
  },
  {
   "cell_type": "code",
   "execution_count": 30,
   "id": "d28d38f6",
   "metadata": {},
   "outputs": [
    {
     "data": {
      "text/plain": [
       "Text(0, 0.5, 'phases in mtzfixed, gemmi')"
      ]
     },
     "execution_count": 30,
     "metadata": {},
     "output_type": "execute_result"
    },
    {
     "data": {
      "image/png": "[encoded data removed]",
      "text/plain": [
       "<Figure size 432x288 with 1 Axes>"
      ]
     },
     "metadata": {
      "needs_background": "light"
     },
     "output_type": "display_data"
    }
   ],
   "source": [
    "plt.scatter(dp0_gemmi, dp1_gemmi)\n",
    "plt.xlabel('phases in original, gemmi')\n",
    "plt.ylabel('phases in mtzfixed, gemmi')"
   ]
  },
  {
   "cell_type": "markdown",
   "id": "51b345c3",
   "metadata": {},
   "source": [
    "With angle conversion"
   ]
  },
  {
   "cell_type": "code",
   "execution_count": 31,
   "id": "519c27a7",
   "metadata": {},
   "outputs": [
    {
     "data": {
      "text/plain": [
       "Text(0, 0.5, 'phases in mtzfixed, gemmi in radians')"
      ]
     },
     "execution_count": 31,
     "metadata": {},
     "output_type": "execute_result"
    },
    {
     "data": {
      "image/png": "[encoded data removed]",
      "text/plain": [
       "<Figure size 432x288 with 1 Axes>"
      ]
     },
     "metadata": {
      "needs_background": "light"
     },
     "output_type": "display_data"
    }
   ],
   "source": [
    "dp0_gemmi_c = dp0_gemmi * np.pi/ 180.\n",
    "dp1_gemmi_c = dp1_gemmi * np.pi/ 180.\n",
    "dp0_gemmi_c[np.where(dp0_gemmi_c > np.pi)] = (dp0_gemmi_c[np.where(dp0_gemmi_c > np.pi)] - np.pi*2)\n",
    "dp1_gemmi_c[np.where(dp1_gemmi_c > np.pi)] = (dp1_gemmi_c[np.where(dp1_gemmi_c > np.pi)] - np.pi*2)\n",
    "plt.scatter(dp0_gemmi_c, dp1_gemmi_c)\n",
    "plt.xlabel('phases in original, gemmi in radians')\n",
    "plt.ylabel('phases in mtzfixed, gemmi in radians')"
   ]
  },
  {
   "cell_type": "markdown",
   "id": "d1b45db4",
   "metadata": {},
   "source": [
    "What's the difference between the mtz files themselves?\n",
    "\n",
    "Let's run\n",
    "\n",
    "`mtzdump hklin 101m.mtz`\n",
    "\n",
    "`mtzdump hklin 101m.fixed.mtz`\n",
    "\n",
    "and check the output for the first negative amplitude value."
   ]
  },
  {
   "cell_type": "code",
   "execution_count": 32,
   "id": "ecacc3bd",
   "metadata": {},
   "outputs": [
    {
     "data": {
      "text/plain": [
       "array([[-36.,   0.,   5.],\n",
       "       [-36.,   2.,   4.],\n",
       "       [-36.,   4.,   3.],\n",
       "       ...,\n",
       "       [ 34.,   8.,   4.],\n",
       "       [ 35.,   3.,   1.],\n",
       "       [ 35.,   5.,   0.]], dtype=float32)"
      ]
     },
     "execution_count": 32,
     "metadata": {},
     "output_type": "execute_result"
    }
   ],
   "source": [
    "hkl1[np.where(d1_gemmi < 0)[0]]"
   ]
  },
  {
   "cell_type": "markdown",
   "id": "bd14aaf1",
   "metadata": {},
   "source": [
    "```mtzdump hklin 101m.mtz\n",
    "START 0 0 10\n",
    "GO\n",
    "```\n",
    "\n",
    "```mtzdump hklin 101m.fixed.mtz\n",
    "START 0 0 10\n",
    "GO\n",
    "```\n",
    "\n",
    "show \n",
    "\n",
    "```\n",
    "    0   0  10        1.00    583.44      0.03    518.01    130.60    585.68\n",
    "                   132.09    532.91    132.09     52.78    312.09      0.96\n",
    "                   608.49    132.18\n",
    "```\n",
    "and \n",
    "```\n",
    "    0   0  10        1.00    583.44      0.03    518.01    130.60    585.68\n",
    "                   132.09    532.91    132.09    -52.78    132.09      0.96\n",
    "                   608.49    132.18\n",
    "```\n",
    "The phase here, in the negative amplitude point, is changed by pi!\n",
    "\n",
    "So let's change it as well. And also set the zero amplitude points' phases to zero to get rid of the appearing vertical bar."
   ]
  },
  {
   "cell_type": "code",
   "execution_count": 34,
   "id": "9f5d36ac",
   "metadata": {},
   "outputs": [
    {
     "data": {
      "text/plain": [
       "Text(0, 0.5, 'phases in mtzfixed, gemmi in radians\\n with phase shift corrected')"
      ]
     },
     "execution_count": 34,
     "metadata": {},
     "output_type": "execute_result"
    },
    {
     "data": {
      "image/png": "[encoded data removed]",
      "text/plain": [
       "<Figure size 432x288 with 1 Axes>"
      ]
     },
     "metadata": {
      "needs_background": "light"
     },
     "output_type": "display_data"
    }
   ],
   "source": [
    "dp0_gemmi_c = dp0_gemmi * np.pi/ 180.\n",
    "dp1_gemmi_c = dp1_gemmi * np.pi/ 180.\n",
    "dp0_gemmi_c[np.where(dp0_gemmi_c > np.pi)] = (dp0_gemmi_c[np.where(dp0_gemmi_c > np.pi)] - np.pi*2)\n",
    "\n",
    "dp1_gemmi_c[np.where(d1_gemmi < 0)] = (dp1_gemmi_c[np.where(d1_gemmi < 0)] - np.pi)\n",
    "\n",
    "\n",
    "dp1_gemmi_c[np.where(dp1_gemmi_c > np.pi)] = (dp1_gemmi_c[np.where(dp1_gemmi_c > np.pi)] - np.pi*2)\n",
    "dp1_gemmi_c[np.where(d1_gemmi == 0)] = 0\n",
    "plt.scatter(dp0_gemmi_c, dp1_gemmi_c)\n",
    "plt.xlabel('phases in original, gemmi in radians')\n",
    "plt.ylabel('phases in mtzfixed, gemmi in radians\\n with phase shift corrected')\n"
   ]
  },
  {
   "cell_type": "markdown",
   "id": "b4510d89",
   "metadata": {},
   "source": [
    "cctbx and gemmi are now the same for the mtzfixed output"
   ]
  },
  {
   "cell_type": "code",
   "execution_count": 35,
   "id": "135106b8",
   "metadata": {},
   "outputs": [
    {
     "data": {
      "text/plain": [
       "Text(0, 0.5, 'phases in mtzfixed, gemmi in radians\\n with phase shift corrected')"
      ]
     },
     "execution_count": 35,
     "metadata": {},
     "output_type": "execute_result"
    },
    {
     "data": {
      "image/png": "[encoded data removed]",
      "text/plain": [
       "<Figure size 432x288 with 1 Axes>"
      ]
     },
     "metadata": {
      "needs_background": "light"
     },
     "output_type": "display_data"
    }
   ],
   "source": [
    "plt.scatter(dp1_cctbx, dp1_gemmi_c)\n",
    "plt.xlabel('phases in mtzfixed, cctbx')\n",
    "plt.ylabel('phases in mtzfixed, gemmi in radians\\n with phase shift corrected')\n"
   ]
  },
  {
   "cell_type": "markdown",
   "id": "cc1b4a24",
   "metadata": {},
   "source": [
    "If we now add this conversion to gemmi function in a dirty way with exact column indexes:"
   ]
  },
  {
   "cell_type": "code",
   "execution_count": 36,
   "id": "9098a899",
   "metadata": {},
   "outputs": [],
   "source": [
    "def pdb_mtz_2_ccp4(pdbin, mtzin, oname, fcol='FC', phcol='PHIC', ret=False,\n",
    "                  margin=5, grid_sample_rate=3, exact_size=None,\n",
    "                  do_extent=False, verbose=False):\n",
    "    \"\"\"\n",
    "    reads pdb and mtz, saves map to a ccp4\n",
    "    we only need the pdb for a correctly computed box & symmetries\n",
    "    \"\"\"\n",
    "    st = None\n",
    "    mtz = gemmi.read_mtz_file(mtzin)\n",
    "    \n",
    "    # here:\n",
    "    arr = np.array(mtz, copy=False)\n",
    "    d1 = arr[:, 12]\n",
    "    dp1 = arr[:, 13]\n",
    "    dp1[np.where(d1 < 0)] = (dp1[np.where(d1 < 0)] - 180)\n",
    "    dp1[np.where(d1 == 0)] = 0\n",
    "    arr[:, 13] = dp1\n",
    "    arr[:, 12] = np.abs(arr[:, 12])\n",
    "    \n",
    "    if verbose:\n",
    "        print(list(mtz.column_labels()))\n",
    "    if exact_size is not None:\n",
    "        grid = mtz.transform_f_phi_to_map(fcol, phcol, sample_rate=grid_sample_rate,\n",
    "                                         exact_size=exact_size)\n",
    "    else:\n",
    "        grid = mtz.transform_f_phi_to_map(fcol, phcol, sample_rate=grid_sample_rate)\n",
    "    ccp4_map = gemmi.Ccp4Map()\n",
    "    ccp4_map.grid = grid\n",
    "    ccp4_map.update_ccp4_header()\n",
    "    if do_extent:\n",
    "        st = gemmi.read_structure(pdbin)\n",
    "        ccp4_map.set_extent(st.calculate_fractional_box(margin=margin))\n",
    "        ccp4_map.update_ccp4_header()\n",
    "    ccp4_map.write_ccp4_map(oname)\n",
    "    if ret:\n",
    "        return st, mtz, grid, ccp4_map"
   ]
  },
  {
   "cell_type": "code",
   "execution_count": 37,
   "id": "6991ce30",
   "metadata": {},
   "outputs": [],
   "source": [
    "pdb_mtz_2_ccp4(pdbin=path_com, \n",
    "               mtzin=patt_com.format('mtz'),\n",
    "               oname=patt_com.format('after.wfofc.ccp4'), \n",
    "               fcol='DELFWT', phcol='PHDELWT',\n",
    "               ret=False, \n",
    "               margin=0, grid_sample_rate=4,\n",
    "               exact_size=exact_size_, \n",
    "               verbose=False)\n",
    "\n",
    "pdb_mtz_2_ccp4(pdbin=path_com, \n",
    "               mtzin=patt_com.format('fixed.mtz'),\n",
    "               oname=patt_com.format('fixed.after.wfofc.ccp4'), \n",
    "               fcol='DELFWT', phcol='PHDELWT',\n",
    "               ret=False, \n",
    "               margin=0, grid_sample_rate=4,\n",
    "               exact_size=exact_size_, \n",
    "               verbose=False)"
   ]
  },
  {
   "cell_type": "code",
   "execution_count": 38,
   "id": "282b9d5f",
   "metadata": {},
   "outputs": [],
   "source": [
    "check_fixed = True\n",
    "ks_after = [\n",
    "      'gemmi.after',\n",
    "      'gemmi.fixed.after'\n",
    "      ]\n",
    "    \n",
    "map_path_tails['gemmi.after'] = 'after.wfofc.ccp4'\n",
    "map_path_tails['gemmi.fixed.after'] = 'fixed.after.wfofc.ccp4'\n",
    "\n",
    "for k_ in ks_after:\n",
    "    maps[k_] = gemmi.read_ccp4_map(patt_com.format(map_path_tails[k_]))\n",
    "    dims[k_] = maps[k_].grid.nu, maps[k_].grid.nv, maps[k_].grid.nw\n",
    "    grid_data[k_] = np.array(maps[k_].grid)\n",
    "    grid_data[k_] = grid_data[k_].transpose(maps[k_].axis_positions())\n",
    "    dims[k_] = grid_data[k_].shape"
   ]
  },
  {
   "cell_type": "code",
   "execution_count": 39,
   "id": "dd534cb0",
   "metadata": {},
   "outputs": [
    {
     "name": "stdout",
     "output_type": "stream",
     "text": [
      "gemmi (144, 168, 130) (144, 168, 130) 0.09444427490234375\n",
      "cctbx (144, 168, 130) (144, 168, 130) 1.0000001192092896\n",
      "gemmitool (144, 168, 130) (144, 168, 130) 0.09444427490234375\n",
      "fft (144, 168, 130) (144, 168, 130) 0.09444427490234375\n",
      "gemmi.fixed (144, 168, 130) (144, 168, 130) 0.06720957159996033\n",
      "cctbx.fixed (144, 168, 130) (144, 168, 130) 0.9999998807907104\n",
      "gemmitool.fixed (144, 168, 130) (144, 168, 130) 0.06720957159996033\n",
      "fft.fixed (144, 168, 130) (144, 168, 130) 0.09339244663715363\n",
      "gemmi.after (144, 168, 130) (144, 168, 130) 0.09444427490234375\n",
      "gemmi.fixed.after (144, 168, 130) (144, 168, 130) 0.09339247643947601\n"
     ]
    }
   ],
   "source": [
    "for k in ks + ks_after:\n",
    "    print(\"{0} {1} {2} {3}\".format(k, dims[k], \n",
    "                                  grid_data[k].shape, \n",
    "                                  np.std(grid_data[k])),\n",
    "         )"
   ]
  },
  {
   "cell_type": "markdown",
   "id": "3c21a43d",
   "metadata": {},
   "source": [
    "Problem solved:"
   ]
  },
  {
   "cell_type": "code",
   "execution_count": 40,
   "id": "b303497f",
   "metadata": {},
   "outputs": [
    {
     "name": "stdout",
     "output_type": "stream",
     "text": [
      "(0.9999999999962053, 0.0)\n",
      "(0.9999999999999807, 0.0)\n",
      "(0.7196467646221824, 0.0)\n",
      "(0.9999999999961778, 0.0)\n"
     ]
    }
   ],
   "source": [
    "print(pearsonr(grid_data['gemmi'].flatten(), grid_data['fft'].flatten()))\n",
    "print(pearsonr(grid_data['gemmi.after'].flatten(), grid_data['cctbx'].flatten()))\n",
    "print(pearsonr(grid_data['gemmi.fixed'].flatten(), grid_data['fft.fixed'].flatten()))\n",
    "print(pearsonr(grid_data['gemmi.fixed.after'].flatten(), grid_data['fft.fixed'].flatten()))"
   ]
  },
  {
   "cell_type": "code",
   "execution_count": 41,
   "id": "36f2bc7a",
   "metadata": {},
   "outputs": [
    {
     "data": {
      "text/plain": [
       "<matplotlib.collections.PathCollection at 0x7fb46c38df10>"
      ]
     },
     "execution_count": 41,
     "metadata": {},
     "output_type": "execute_result"
    },
    {
     "data": {
      "image/png": "[encoded data removed]",
      "text/plain": [
       "<Figure size 432x288 with 1 Axes>"
      ]
     },
     "metadata": {
      "needs_background": "light"
     },
     "output_type": "display_data"
    }
   ],
   "source": [
    "plt.scatter(grid_data['gemmi.fixed.after'].flatten(), grid_data['fft.fixed'].flatten())"
   ]
  }
 ],
 "metadata": {
  "kernelspec": {
   "display_name": "Python 3 (ipykernel)",
   "language": "python",
   "name": "python3"
  },
  "language_info": {
   "codemirror_mode": {
    "name": "ipython",
    "version": 3
   },
   "file_extension": ".py",
   "mimetype": "text/x-python",
   "name": "python",
   "nbconvert_exporter": "python",
   "pygments_lexer": "ipython3",
   "version": "3.8.5"
  }
 },
 "nbformat": 4,
 "nbformat_minor": 5
}
